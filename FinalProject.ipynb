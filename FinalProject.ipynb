{
  "nbformat": 4,
  "nbformat_minor": 0,
  "metadata": {
    "colab": {
      "name": "FinalProject.ipynb",
      "provenance": [],
      "collapsed_sections": []
    },
    "kernelspec": {
      "name": "python3",
      "display_name": "Python 3"
    },
    "language_info": {
      "name": "python"
    }
  },
  "cells": [
    {
      "cell_type": "code",
      "metadata": {
        "id": "1YHETttDQPiA",
        "colab": {
          "base_uri": "https://localhost:8080/"
        },
        "outputId": "5ad2abb3-6643-47c5-e0f6-051362098fc1"
      },
      "source": [
        "from google.colab import drive\n",
        "drive.mount('/content/gdrive')"
      ],
      "execution_count": null,
      "outputs": [
        {
          "output_type": "stream",
          "text": [
            "Mounted at /content/gdrive\n"
          ],
          "name": "stdout"
        }
      ]
    },
    {
      "cell_type": "code",
      "metadata": {
        "id": "nDASZXCIoK52"
      },
      "source": [
        "#importing libraries\n",
        "import pandas as pd\n",
        "import numpy as np\n",
        "import matplotlib.pyplot as plt\n",
        "import seaborn as sns\n",
        "import warnings\n",
        "warnings.filterwarnings('ignore' )"
      ],
      "execution_count": null,
      "outputs": []
    },
    {
      "cell_type": "code",
      "metadata": {
        "colab": {
          "base_uri": "https://localhost:8080/",
          "height": 417
        },
        "id": "PmQSG4UyoStv",
        "outputId": "34fce5e9-6dfb-4a21-838c-5a94eaf341f4"
      },
      "source": [
        "#importing dataset\n",
        "data=pd.read_excel(\"/content/gdrive/MyDrive/Data/Data_Train.xlsx\")\n",
        "data"
      ],
      "execution_count": null,
      "outputs": [
        {
          "output_type": "execute_result",
          "data": {
            "text/html": [
              "<div>\n",
              "<style scoped>\n",
              "    .dataframe tbody tr th:only-of-type {\n",
              "        vertical-align: middle;\n",
              "    }\n",
              "\n",
              "    .dataframe tbody tr th {\n",
              "        vertical-align: top;\n",
              "    }\n",
              "\n",
              "    .dataframe thead th {\n",
              "        text-align: right;\n",
              "    }\n",
              "</style>\n",
              "<table border=\"1\" class=\"dataframe\">\n",
              "  <thead>\n",
              "    <tr style=\"text-align: right;\">\n",
              "      <th></th>\n",
              "      <th>Airline</th>\n",
              "      <th>Date_of_Journey</th>\n",
              "      <th>Source</th>\n",
              "      <th>Destination</th>\n",
              "      <th>Route</th>\n",
              "      <th>Dep_Time</th>\n",
              "      <th>Arrival_Time</th>\n",
              "      <th>Duration</th>\n",
              "      <th>Total_Stops</th>\n",
              "      <th>Additional_Info</th>\n",
              "      <th>Price</th>\n",
              "    </tr>\n",
              "  </thead>\n",
              "  <tbody>\n",
              "    <tr>\n",
              "      <th>0</th>\n",
              "      <td>IndiGo</td>\n",
              "      <td>24/03/2018</td>\n",
              "      <td>Banglore</td>\n",
              "      <td>New Delhi</td>\n",
              "      <td>BLR → DEL</td>\n",
              "      <td>22:20</td>\n",
              "      <td>01:10 22 Mar</td>\n",
              "      <td>2h 50m</td>\n",
              "      <td>non-stop</td>\n",
              "      <td>No info</td>\n",
              "      <td>3897</td>\n",
              "    </tr>\n",
              "    <tr>\n",
              "      <th>1</th>\n",
              "      <td>Air India</td>\n",
              "      <td>2018-01-05 00:00:00</td>\n",
              "      <td>Kolkata</td>\n",
              "      <td>Banglore</td>\n",
              "      <td>CCU → IXR → BBI → BLR</td>\n",
              "      <td>05:50</td>\n",
              "      <td>13:15</td>\n",
              "      <td>7h 25m</td>\n",
              "      <td>2 stops</td>\n",
              "      <td>No info</td>\n",
              "      <td>7662</td>\n",
              "    </tr>\n",
              "    <tr>\n",
              "      <th>2</th>\n",
              "      <td>Jet Airways</td>\n",
              "      <td>2018-09-06 00:00:00</td>\n",
              "      <td>Delhi</td>\n",
              "      <td>Cochin</td>\n",
              "      <td>DEL → LKO → BOM → COK</td>\n",
              "      <td>09:25</td>\n",
              "      <td>04:25 10 Jun</td>\n",
              "      <td>19h</td>\n",
              "      <td>2 stops</td>\n",
              "      <td>No info</td>\n",
              "      <td>13882</td>\n",
              "    </tr>\n",
              "    <tr>\n",
              "      <th>3</th>\n",
              "      <td>IndiGo</td>\n",
              "      <td>2018-12-05 00:00:00</td>\n",
              "      <td>Kolkata</td>\n",
              "      <td>Banglore</td>\n",
              "      <td>CCU → NAG → BLR</td>\n",
              "      <td>18:05</td>\n",
              "      <td>23:30</td>\n",
              "      <td>5h 25m</td>\n",
              "      <td>1 stop</td>\n",
              "      <td>No info</td>\n",
              "      <td>6218</td>\n",
              "    </tr>\n",
              "    <tr>\n",
              "      <th>4</th>\n",
              "      <td>IndiGo</td>\n",
              "      <td>2018-01-03 00:00:00</td>\n",
              "      <td>Banglore</td>\n",
              "      <td>New Delhi</td>\n",
              "      <td>BLR → NAG → DEL</td>\n",
              "      <td>16:50</td>\n",
              "      <td>21:35</td>\n",
              "      <td>4h 45m</td>\n",
              "      <td>1 stop</td>\n",
              "      <td>No info</td>\n",
              "      <td>13302</td>\n",
              "    </tr>\n",
              "    <tr>\n",
              "      <th>...</th>\n",
              "      <td>...</td>\n",
              "      <td>...</td>\n",
              "      <td>...</td>\n",
              "      <td>...</td>\n",
              "      <td>...</td>\n",
              "      <td>...</td>\n",
              "      <td>...</td>\n",
              "      <td>...</td>\n",
              "      <td>...</td>\n",
              "      <td>...</td>\n",
              "      <td>...</td>\n",
              "    </tr>\n",
              "    <tr>\n",
              "      <th>10678</th>\n",
              "      <td>Air Asia</td>\n",
              "      <td>2018-09-04 00:00:00</td>\n",
              "      <td>Kolkata</td>\n",
              "      <td>Banglore</td>\n",
              "      <td>CCU → BLR</td>\n",
              "      <td>19:55</td>\n",
              "      <td>22:25</td>\n",
              "      <td>2h 30m</td>\n",
              "      <td>non-stop</td>\n",
              "      <td>No info</td>\n",
              "      <td>4107</td>\n",
              "    </tr>\n",
              "    <tr>\n",
              "      <th>10679</th>\n",
              "      <td>Air India</td>\n",
              "      <td>27/04/2018</td>\n",
              "      <td>Kolkata</td>\n",
              "      <td>Banglore</td>\n",
              "      <td>CCU → BLR</td>\n",
              "      <td>20:45</td>\n",
              "      <td>23:20</td>\n",
              "      <td>2h 35m</td>\n",
              "      <td>non-stop</td>\n",
              "      <td>No info</td>\n",
              "      <td>4145</td>\n",
              "    </tr>\n",
              "    <tr>\n",
              "      <th>10680</th>\n",
              "      <td>Jet Airways</td>\n",
              "      <td>27/04/2018</td>\n",
              "      <td>Banglore</td>\n",
              "      <td>Delhi</td>\n",
              "      <td>BLR → DEL</td>\n",
              "      <td>08:20</td>\n",
              "      <td>11:20</td>\n",
              "      <td>3h</td>\n",
              "      <td>non-stop</td>\n",
              "      <td>No info</td>\n",
              "      <td>7229</td>\n",
              "    </tr>\n",
              "    <tr>\n",
              "      <th>10681</th>\n",
              "      <td>Vistara</td>\n",
              "      <td>2018-01-03 00:00:00</td>\n",
              "      <td>Banglore</td>\n",
              "      <td>New Delhi</td>\n",
              "      <td>BLR → DEL</td>\n",
              "      <td>11:30</td>\n",
              "      <td>14:10</td>\n",
              "      <td>2h 40m</td>\n",
              "      <td>non-stop</td>\n",
              "      <td>No info</td>\n",
              "      <td>12648</td>\n",
              "    </tr>\n",
              "    <tr>\n",
              "      <th>10682</th>\n",
              "      <td>Air India</td>\n",
              "      <td>2018-09-05 00:00:00</td>\n",
              "      <td>Delhi</td>\n",
              "      <td>Cochin</td>\n",
              "      <td>DEL → GOI → BOM → COK</td>\n",
              "      <td>10:55</td>\n",
              "      <td>19:15</td>\n",
              "      <td>8h 20m</td>\n",
              "      <td>2 stops</td>\n",
              "      <td>No info</td>\n",
              "      <td>11753</td>\n",
              "    </tr>\n",
              "  </tbody>\n",
              "</table>\n",
              "<p>10683 rows × 11 columns</p>\n",
              "</div>"
            ],
            "text/plain": [
              "           Airline      Date_of_Journey  ... Additional_Info  Price\n",
              "0           IndiGo           24/03/2018  ...         No info   3897\n",
              "1        Air India  2018-01-05 00:00:00  ...         No info   7662\n",
              "2      Jet Airways  2018-09-06 00:00:00  ...         No info  13882\n",
              "3           IndiGo  2018-12-05 00:00:00  ...         No info   6218\n",
              "4           IndiGo  2018-01-03 00:00:00  ...         No info  13302\n",
              "...            ...                  ...  ...             ...    ...\n",
              "10678     Air Asia  2018-09-04 00:00:00  ...         No info   4107\n",
              "10679    Air India           27/04/2018  ...         No info   4145\n",
              "10680  Jet Airways           27/04/2018  ...         No info   7229\n",
              "10681      Vistara  2018-01-03 00:00:00  ...         No info  12648\n",
              "10682    Air India  2018-09-05 00:00:00  ...         No info  11753\n",
              "\n",
              "[10683 rows x 11 columns]"
            ]
          },
          "metadata": {
            "tags": []
          },
          "execution_count": 295
        }
      ]
    },
    {
      "cell_type": "code",
      "metadata": {
        "colab": {
          "base_uri": "https://localhost:8080/"
        },
        "id": "5AgxRVZyozET",
        "outputId": "e3f0a0c5-04bd-4a85-d64d-7f7882331ce6"
      },
      "source": [
        "data.info()"
      ],
      "execution_count": null,
      "outputs": [
        {
          "output_type": "stream",
          "text": [
            "<class 'pandas.core.frame.DataFrame'>\n",
            "RangeIndex: 10683 entries, 0 to 10682\n",
            "Data columns (total 11 columns):\n",
            " #   Column           Non-Null Count  Dtype \n",
            "---  ------           --------------  ----- \n",
            " 0   Airline          10683 non-null  object\n",
            " 1   Date_of_Journey  10683 non-null  object\n",
            " 2   Source           10683 non-null  object\n",
            " 3   Destination      10683 non-null  object\n",
            " 4   Route            10682 non-null  object\n",
            " 5   Dep_Time         10683 non-null  object\n",
            " 6   Arrival_Time     10683 non-null  object\n",
            " 7   Duration         10683 non-null  object\n",
            " 8   Total_Stops      10682 non-null  object\n",
            " 9   Additional_Info  10683 non-null  object\n",
            " 10  Price            10683 non-null  int64 \n",
            "dtypes: int64(1), object(10)\n",
            "memory usage: 918.2+ KB\n"
          ],
          "name": "stdout"
        }
      ]
    },
    {
      "cell_type": "code",
      "metadata": {
        "colab": {
          "base_uri": "https://localhost:8080/"
        },
        "id": "9N8249OxpAMy",
        "outputId": "917c387f-5dad-48ab-fd81-49d378837f87"
      },
      "source": [
        "#Checking missing values\n",
        "data.isnull().sum()    "
      ],
      "execution_count": null,
      "outputs": [
        {
          "output_type": "execute_result",
          "data": {
            "text/plain": [
              "Airline            0\n",
              "Date_of_Journey    0\n",
              "Source             0\n",
              "Destination        0\n",
              "Route              1\n",
              "Dep_Time           0\n",
              "Arrival_Time       0\n",
              "Duration           0\n",
              "Total_Stops        1\n",
              "Additional_Info    0\n",
              "Price              0\n",
              "dtype: int64"
            ]
          },
          "metadata": {
            "tags": []
          },
          "execution_count": 297
        }
      ]
    },
    {
      "cell_type": "code",
      "metadata": {
        "id": "o5EoF-Jfp8jR"
      },
      "source": [
        "data.dropna(inplace=True)"
      ],
      "execution_count": null,
      "outputs": []
    },
    {
      "cell_type": "code",
      "metadata": {
        "colab": {
          "base_uri": "https://localhost:8080/"
        },
        "id": "Q23MedzOqAEE",
        "outputId": "833dd57c-1382-4a36-fc08-b051414198d4"
      },
      "source": [
        "data.isnull().sum()"
      ],
      "execution_count": null,
      "outputs": [
        {
          "output_type": "execute_result",
          "data": {
            "text/plain": [
              "Airline            0\n",
              "Date_of_Journey    0\n",
              "Source             0\n",
              "Destination        0\n",
              "Route              0\n",
              "Dep_Time           0\n",
              "Arrival_Time       0\n",
              "Duration           0\n",
              "Total_Stops        0\n",
              "Additional_Info    0\n",
              "Price              0\n",
              "dtype: int64"
            ]
          },
          "metadata": {
            "tags": []
          },
          "execution_count": 299
        }
      ]
    },
    {
      "cell_type": "code",
      "metadata": {
        "colab": {
          "base_uri": "https://localhost:8080/"
        },
        "id": "0feJ9awDqEkX",
        "outputId": "6e349a2d-0498-409e-ae50-723aa50bd126"
      },
      "source": [
        "data.dtypes"
      ],
      "execution_count": null,
      "outputs": [
        {
          "output_type": "execute_result",
          "data": {
            "text/plain": [
              "Airline            object\n",
              "Date_of_Journey    object\n",
              "Source             object\n",
              "Destination        object\n",
              "Route              object\n",
              "Dep_Time           object\n",
              "Arrival_Time       object\n",
              "Duration           object\n",
              "Total_Stops        object\n",
              "Additional_Info    object\n",
              "Price               int64\n",
              "dtype: object"
            ]
          },
          "metadata": {
            "tags": []
          },
          "execution_count": 300
        }
      ]
    },
    {
      "cell_type": "code",
      "metadata": {
        "colab": {
          "base_uri": "https://localhost:8080/"
        },
        "id": "SInipA7ErtjL",
        "outputId": "50f5bcdf-8601-4a95-d67c-53c76d9e876e"
      },
      "source": [
        "#converting Date_of_Journey datatype into datetime\n",
        "data.columns"
      ],
      "execution_count": null,
      "outputs": [
        {
          "output_type": "execute_result",
          "data": {
            "text/plain": [
              "Index(['Airline', 'Date_of_Journey', 'Source', 'Destination', 'Route',\n",
              "       'Dep_Time', 'Arrival_Time', 'Duration', 'Total_Stops',\n",
              "       'Additional_Info', 'Price'],\n",
              "      dtype='object')"
            ]
          },
          "metadata": {
            "tags": []
          },
          "execution_count": 301
        }
      ]
    },
    {
      "cell_type": "code",
      "metadata": {
        "id": "TTtSgyqtrv2k"
      },
      "source": [
        "def convert_into_datetime(x):\n",
        "  data[x]=pd.to_datetime(data[x])"
      ],
      "execution_count": null,
      "outputs": []
    },
    {
      "cell_type": "code",
      "metadata": {
        "id": "4B39ajKCsGUb"
      },
      "source": [
        "for i in ['Date_of_Journey', 'Dep_Time', 'Arrival_Time']:\n",
        "  convert_into_datetime(i)"
      ],
      "execution_count": null,
      "outputs": []
    },
    {
      "cell_type": "code",
      "metadata": {
        "colab": {
          "base_uri": "https://localhost:8080/"
        },
        "id": "dbZXvNWnsb7q",
        "outputId": "07de0ad5-4118-4687-c809-25562836572b"
      },
      "source": [
        "data.dtypes"
      ],
      "execution_count": null,
      "outputs": [
        {
          "output_type": "execute_result",
          "data": {
            "text/plain": [
              "Airline                    object\n",
              "Date_of_Journey    datetime64[ns]\n",
              "Source                     object\n",
              "Destination                object\n",
              "Route                      object\n",
              "Dep_Time           datetime64[ns]\n",
              "Arrival_Time       datetime64[ns]\n",
              "Duration                   object\n",
              "Total_Stops                object\n",
              "Additional_Info            object\n",
              "Price                       int64\n",
              "dtype: object"
            ]
          },
          "metadata": {
            "tags": []
          },
          "execution_count": 304
        }
      ]
    },
    {
      "cell_type": "code",
      "metadata": {
        "id": "xRMl4DoxseX0"
      },
      "source": [
        "data['day']=data['Date_of_Journey'].dt.day\n",
        "data['month']=data['Date_of_Journey'].dt.month"
      ],
      "execution_count": null,
      "outputs": []
    },
    {
      "cell_type": "code",
      "metadata": {
        "colab": {
          "base_uri": "https://localhost:8080/",
          "height": 203
        },
        "id": "pSKOvi7otOZ6",
        "outputId": "c6264a68-f34e-4e7d-bf7c-dd8113f37c77"
      },
      "source": [
        "data.head()"
      ],
      "execution_count": null,
      "outputs": [
        {
          "output_type": "execute_result",
          "data": {
            "text/html": [
              "<div>\n",
              "<style scoped>\n",
              "    .dataframe tbody tr th:only-of-type {\n",
              "        vertical-align: middle;\n",
              "    }\n",
              "\n",
              "    .dataframe tbody tr th {\n",
              "        vertical-align: top;\n",
              "    }\n",
              "\n",
              "    .dataframe thead th {\n",
              "        text-align: right;\n",
              "    }\n",
              "</style>\n",
              "<table border=\"1\" class=\"dataframe\">\n",
              "  <thead>\n",
              "    <tr style=\"text-align: right;\">\n",
              "      <th></th>\n",
              "      <th>Airline</th>\n",
              "      <th>Date_of_Journey</th>\n",
              "      <th>Source</th>\n",
              "      <th>Destination</th>\n",
              "      <th>Route</th>\n",
              "      <th>Dep_Time</th>\n",
              "      <th>Arrival_Time</th>\n",
              "      <th>Duration</th>\n",
              "      <th>Total_Stops</th>\n",
              "      <th>Additional_Info</th>\n",
              "      <th>Price</th>\n",
              "      <th>day</th>\n",
              "      <th>month</th>\n",
              "    </tr>\n",
              "  </thead>\n",
              "  <tbody>\n",
              "    <tr>\n",
              "      <th>0</th>\n",
              "      <td>IndiGo</td>\n",
              "      <td>2018-03-24</td>\n",
              "      <td>Banglore</td>\n",
              "      <td>New Delhi</td>\n",
              "      <td>BLR → DEL</td>\n",
              "      <td>2021-06-12 22:20:00</td>\n",
              "      <td>2021-03-22 01:10:00</td>\n",
              "      <td>2h 50m</td>\n",
              "      <td>non-stop</td>\n",
              "      <td>No info</td>\n",
              "      <td>3897</td>\n",
              "      <td>24</td>\n",
              "      <td>3</td>\n",
              "    </tr>\n",
              "    <tr>\n",
              "      <th>1</th>\n",
              "      <td>Air India</td>\n",
              "      <td>2018-01-05</td>\n",
              "      <td>Kolkata</td>\n",
              "      <td>Banglore</td>\n",
              "      <td>CCU → IXR → BBI → BLR</td>\n",
              "      <td>2021-06-12 05:50:00</td>\n",
              "      <td>2021-06-12 13:15:00</td>\n",
              "      <td>7h 25m</td>\n",
              "      <td>2 stops</td>\n",
              "      <td>No info</td>\n",
              "      <td>7662</td>\n",
              "      <td>5</td>\n",
              "      <td>1</td>\n",
              "    </tr>\n",
              "    <tr>\n",
              "      <th>2</th>\n",
              "      <td>Jet Airways</td>\n",
              "      <td>2018-09-06</td>\n",
              "      <td>Delhi</td>\n",
              "      <td>Cochin</td>\n",
              "      <td>DEL → LKO → BOM → COK</td>\n",
              "      <td>2021-06-12 09:25:00</td>\n",
              "      <td>2021-06-10 04:25:00</td>\n",
              "      <td>19h</td>\n",
              "      <td>2 stops</td>\n",
              "      <td>No info</td>\n",
              "      <td>13882</td>\n",
              "      <td>6</td>\n",
              "      <td>9</td>\n",
              "    </tr>\n",
              "    <tr>\n",
              "      <th>3</th>\n",
              "      <td>IndiGo</td>\n",
              "      <td>2018-12-05</td>\n",
              "      <td>Kolkata</td>\n",
              "      <td>Banglore</td>\n",
              "      <td>CCU → NAG → BLR</td>\n",
              "      <td>2021-06-12 18:05:00</td>\n",
              "      <td>2021-06-12 23:30:00</td>\n",
              "      <td>5h 25m</td>\n",
              "      <td>1 stop</td>\n",
              "      <td>No info</td>\n",
              "      <td>6218</td>\n",
              "      <td>5</td>\n",
              "      <td>12</td>\n",
              "    </tr>\n",
              "    <tr>\n",
              "      <th>4</th>\n",
              "      <td>IndiGo</td>\n",
              "      <td>2018-01-03</td>\n",
              "      <td>Banglore</td>\n",
              "      <td>New Delhi</td>\n",
              "      <td>BLR → NAG → DEL</td>\n",
              "      <td>2021-06-12 16:50:00</td>\n",
              "      <td>2021-06-12 21:35:00</td>\n",
              "      <td>4h 45m</td>\n",
              "      <td>1 stop</td>\n",
              "      <td>No info</td>\n",
              "      <td>13302</td>\n",
              "      <td>3</td>\n",
              "      <td>1</td>\n",
              "    </tr>\n",
              "  </tbody>\n",
              "</table>\n",
              "</div>"
            ],
            "text/plain": [
              "       Airline Date_of_Journey    Source  ...  Price day month\n",
              "0       IndiGo      2018-03-24  Banglore  ...   3897  24     3\n",
              "1    Air India      2018-01-05   Kolkata  ...   7662   5     1\n",
              "2  Jet Airways      2018-09-06     Delhi  ...  13882   6     9\n",
              "3       IndiGo      2018-12-05   Kolkata  ...   6218   5    12\n",
              "4       IndiGo      2018-01-03  Banglore  ...  13302   3     1\n",
              "\n",
              "[5 rows x 13 columns]"
            ]
          },
          "metadata": {
            "tags": []
          },
          "execution_count": 306
        }
      ]
    },
    {
      "cell_type": "code",
      "metadata": {
        "id": "gqmvFIJutQ2X"
      },
      "source": [
        "#droping Date_of_Journey'column\n",
        "data.drop('Date_of_Journey',axis=1,inplace = True)"
      ],
      "execution_count": null,
      "outputs": []
    },
    {
      "cell_type": "code",
      "metadata": {
        "id": "7qI7cqE8xQYh"
      },
      "source": [
        "def extract_hour(df,col):\n",
        "  df[col+'_hour'] =df[col].dt.hour\n",
        "\n",
        "def extract_min(df,col):\n",
        "  df[col+'_min'] =df[col].dt.minute"
      ],
      "execution_count": null,
      "outputs": []
    },
    {
      "cell_type": "code",
      "metadata": {
        "id": "KVLcYio22VXu"
      },
      "source": [
        "def drop_column(df,col):\n",
        "  df.drop(col,axis=1,inplace=True)   # axis1 = vertically"
      ],
      "execution_count": null,
      "outputs": []
    },
    {
      "cell_type": "code",
      "metadata": {
        "id": "TPvMobRD2hal"
      },
      "source": [
        "extract_hour(data,'Dep_Time')\n",
        "extract_min(data,'Dep_Time')\n",
        "drop_column(data,'Dep_Time')"
      ],
      "execution_count": null,
      "outputs": []
    },
    {
      "cell_type": "code",
      "metadata": {
        "id": "FSieflj120SE"
      },
      "source": [
        "extract_hour(data,'Arrival_Time')\n",
        "extract_min(data,'Arrival_Time')\n",
        "drop_column(data,'Arrival_Time')"
      ],
      "execution_count": null,
      "outputs": []
    },
    {
      "cell_type": "code",
      "metadata": {
        "colab": {
          "base_uri": "https://localhost:8080/",
          "height": 220
        },
        "id": "nwog0_nZ3-QF",
        "outputId": "80e81a57-0a41-4a51-9cd5-1f17e676369e"
      },
      "source": [
        "data.head()"
      ],
      "execution_count": null,
      "outputs": [
        {
          "output_type": "execute_result",
          "data": {
            "text/html": [
              "<div>\n",
              "<style scoped>\n",
              "    .dataframe tbody tr th:only-of-type {\n",
              "        vertical-align: middle;\n",
              "    }\n",
              "\n",
              "    .dataframe tbody tr th {\n",
              "        vertical-align: top;\n",
              "    }\n",
              "\n",
              "    .dataframe thead th {\n",
              "        text-align: right;\n",
              "    }\n",
              "</style>\n",
              "<table border=\"1\" class=\"dataframe\">\n",
              "  <thead>\n",
              "    <tr style=\"text-align: right;\">\n",
              "      <th></th>\n",
              "      <th>Airline</th>\n",
              "      <th>Source</th>\n",
              "      <th>Destination</th>\n",
              "      <th>Route</th>\n",
              "      <th>Duration</th>\n",
              "      <th>Total_Stops</th>\n",
              "      <th>Additional_Info</th>\n",
              "      <th>Price</th>\n",
              "      <th>day</th>\n",
              "      <th>month</th>\n",
              "      <th>Dep_Time_hour</th>\n",
              "      <th>Dep_Time_min</th>\n",
              "      <th>Arrival_Time_hour</th>\n",
              "      <th>Arrival_Time_min</th>\n",
              "    </tr>\n",
              "  </thead>\n",
              "  <tbody>\n",
              "    <tr>\n",
              "      <th>0</th>\n",
              "      <td>IndiGo</td>\n",
              "      <td>Banglore</td>\n",
              "      <td>New Delhi</td>\n",
              "      <td>BLR → DEL</td>\n",
              "      <td>2h 50m</td>\n",
              "      <td>non-stop</td>\n",
              "      <td>No info</td>\n",
              "      <td>3897</td>\n",
              "      <td>24</td>\n",
              "      <td>3</td>\n",
              "      <td>22</td>\n",
              "      <td>20</td>\n",
              "      <td>1</td>\n",
              "      <td>10</td>\n",
              "    </tr>\n",
              "    <tr>\n",
              "      <th>1</th>\n",
              "      <td>Air India</td>\n",
              "      <td>Kolkata</td>\n",
              "      <td>Banglore</td>\n",
              "      <td>CCU → IXR → BBI → BLR</td>\n",
              "      <td>7h 25m</td>\n",
              "      <td>2 stops</td>\n",
              "      <td>No info</td>\n",
              "      <td>7662</td>\n",
              "      <td>5</td>\n",
              "      <td>1</td>\n",
              "      <td>5</td>\n",
              "      <td>50</td>\n",
              "      <td>13</td>\n",
              "      <td>15</td>\n",
              "    </tr>\n",
              "    <tr>\n",
              "      <th>2</th>\n",
              "      <td>Jet Airways</td>\n",
              "      <td>Delhi</td>\n",
              "      <td>Cochin</td>\n",
              "      <td>DEL → LKO → BOM → COK</td>\n",
              "      <td>19h</td>\n",
              "      <td>2 stops</td>\n",
              "      <td>No info</td>\n",
              "      <td>13882</td>\n",
              "      <td>6</td>\n",
              "      <td>9</td>\n",
              "      <td>9</td>\n",
              "      <td>25</td>\n",
              "      <td>4</td>\n",
              "      <td>25</td>\n",
              "    </tr>\n",
              "    <tr>\n",
              "      <th>3</th>\n",
              "      <td>IndiGo</td>\n",
              "      <td>Kolkata</td>\n",
              "      <td>Banglore</td>\n",
              "      <td>CCU → NAG → BLR</td>\n",
              "      <td>5h 25m</td>\n",
              "      <td>1 stop</td>\n",
              "      <td>No info</td>\n",
              "      <td>6218</td>\n",
              "      <td>5</td>\n",
              "      <td>12</td>\n",
              "      <td>18</td>\n",
              "      <td>5</td>\n",
              "      <td>23</td>\n",
              "      <td>30</td>\n",
              "    </tr>\n",
              "    <tr>\n",
              "      <th>4</th>\n",
              "      <td>IndiGo</td>\n",
              "      <td>Banglore</td>\n",
              "      <td>New Delhi</td>\n",
              "      <td>BLR → NAG → DEL</td>\n",
              "      <td>4h 45m</td>\n",
              "      <td>1 stop</td>\n",
              "      <td>No info</td>\n",
              "      <td>13302</td>\n",
              "      <td>3</td>\n",
              "      <td>1</td>\n",
              "      <td>16</td>\n",
              "      <td>50</td>\n",
              "      <td>21</td>\n",
              "      <td>35</td>\n",
              "    </tr>\n",
              "  </tbody>\n",
              "</table>\n",
              "</div>"
            ],
            "text/plain": [
              "       Airline    Source  ... Arrival_Time_hour Arrival_Time_min\n",
              "0       IndiGo  Banglore  ...                 1               10\n",
              "1    Air India   Kolkata  ...                13               15\n",
              "2  Jet Airways     Delhi  ...                 4               25\n",
              "3       IndiGo   Kolkata  ...                23               30\n",
              "4       IndiGo  Banglore  ...                21               35\n",
              "\n",
              "[5 rows x 14 columns]"
            ]
          },
          "metadata": {
            "tags": []
          },
          "execution_count": 312
        }
      ]
    },
    {
      "cell_type": "code",
      "metadata": {
        "id": "-yMv8VXE4BjR"
      },
      "source": [
        "duration = list(data['Duration'])"
      ],
      "execution_count": null,
      "outputs": []
    },
    {
      "cell_type": "code",
      "metadata": {
        "id": "LSwWiO3d4Ynu"
      },
      "source": [
        "for i in range(len(duration)):\n",
        "  if len(duration[i].split(' '))==2:\n",
        "    pass\n",
        "  else:\n",
        "    if 'h' in duration[i]:\n",
        "      duration[i]=duration[i] + ' 0m' \n",
        "    else:\n",
        "      duration[i]='0h '+ duration[i]  \n"
      ],
      "execution_count": null,
      "outputs": []
    },
    {
      "cell_type": "code",
      "metadata": {
        "id": "mDNE_ihQ5OIM"
      },
      "source": [
        "data['Duration']=duration"
      ],
      "execution_count": null,
      "outputs": []
    },
    {
      "cell_type": "code",
      "metadata": {
        "colab": {
          "base_uri": "https://localhost:8080/",
          "height": 220
        },
        "id": "Sfy96jgO5UX_",
        "outputId": "a3ce9916-913b-4210-95e0-fc3e361b87e6"
      },
      "source": [
        "data.head()"
      ],
      "execution_count": null,
      "outputs": [
        {
          "output_type": "execute_result",
          "data": {
            "text/html": [
              "<div>\n",
              "<style scoped>\n",
              "    .dataframe tbody tr th:only-of-type {\n",
              "        vertical-align: middle;\n",
              "    }\n",
              "\n",
              "    .dataframe tbody tr th {\n",
              "        vertical-align: top;\n",
              "    }\n",
              "\n",
              "    .dataframe thead th {\n",
              "        text-align: right;\n",
              "    }\n",
              "</style>\n",
              "<table border=\"1\" class=\"dataframe\">\n",
              "  <thead>\n",
              "    <tr style=\"text-align: right;\">\n",
              "      <th></th>\n",
              "      <th>Airline</th>\n",
              "      <th>Source</th>\n",
              "      <th>Destination</th>\n",
              "      <th>Route</th>\n",
              "      <th>Duration</th>\n",
              "      <th>Total_Stops</th>\n",
              "      <th>Additional_Info</th>\n",
              "      <th>Price</th>\n",
              "      <th>day</th>\n",
              "      <th>month</th>\n",
              "      <th>Dep_Time_hour</th>\n",
              "      <th>Dep_Time_min</th>\n",
              "      <th>Arrival_Time_hour</th>\n",
              "      <th>Arrival_Time_min</th>\n",
              "    </tr>\n",
              "  </thead>\n",
              "  <tbody>\n",
              "    <tr>\n",
              "      <th>0</th>\n",
              "      <td>IndiGo</td>\n",
              "      <td>Banglore</td>\n",
              "      <td>New Delhi</td>\n",
              "      <td>BLR → DEL</td>\n",
              "      <td>2h 50m</td>\n",
              "      <td>non-stop</td>\n",
              "      <td>No info</td>\n",
              "      <td>3897</td>\n",
              "      <td>24</td>\n",
              "      <td>3</td>\n",
              "      <td>22</td>\n",
              "      <td>20</td>\n",
              "      <td>1</td>\n",
              "      <td>10</td>\n",
              "    </tr>\n",
              "    <tr>\n",
              "      <th>1</th>\n",
              "      <td>Air India</td>\n",
              "      <td>Kolkata</td>\n",
              "      <td>Banglore</td>\n",
              "      <td>CCU → IXR → BBI → BLR</td>\n",
              "      <td>7h 25m</td>\n",
              "      <td>2 stops</td>\n",
              "      <td>No info</td>\n",
              "      <td>7662</td>\n",
              "      <td>5</td>\n",
              "      <td>1</td>\n",
              "      <td>5</td>\n",
              "      <td>50</td>\n",
              "      <td>13</td>\n",
              "      <td>15</td>\n",
              "    </tr>\n",
              "    <tr>\n",
              "      <th>2</th>\n",
              "      <td>Jet Airways</td>\n",
              "      <td>Delhi</td>\n",
              "      <td>Cochin</td>\n",
              "      <td>DEL → LKO → BOM → COK</td>\n",
              "      <td>19h 0m</td>\n",
              "      <td>2 stops</td>\n",
              "      <td>No info</td>\n",
              "      <td>13882</td>\n",
              "      <td>6</td>\n",
              "      <td>9</td>\n",
              "      <td>9</td>\n",
              "      <td>25</td>\n",
              "      <td>4</td>\n",
              "      <td>25</td>\n",
              "    </tr>\n",
              "    <tr>\n",
              "      <th>3</th>\n",
              "      <td>IndiGo</td>\n",
              "      <td>Kolkata</td>\n",
              "      <td>Banglore</td>\n",
              "      <td>CCU → NAG → BLR</td>\n",
              "      <td>5h 25m</td>\n",
              "      <td>1 stop</td>\n",
              "      <td>No info</td>\n",
              "      <td>6218</td>\n",
              "      <td>5</td>\n",
              "      <td>12</td>\n",
              "      <td>18</td>\n",
              "      <td>5</td>\n",
              "      <td>23</td>\n",
              "      <td>30</td>\n",
              "    </tr>\n",
              "    <tr>\n",
              "      <th>4</th>\n",
              "      <td>IndiGo</td>\n",
              "      <td>Banglore</td>\n",
              "      <td>New Delhi</td>\n",
              "      <td>BLR → NAG → DEL</td>\n",
              "      <td>4h 45m</td>\n",
              "      <td>1 stop</td>\n",
              "      <td>No info</td>\n",
              "      <td>13302</td>\n",
              "      <td>3</td>\n",
              "      <td>1</td>\n",
              "      <td>16</td>\n",
              "      <td>50</td>\n",
              "      <td>21</td>\n",
              "      <td>35</td>\n",
              "    </tr>\n",
              "  </tbody>\n",
              "</table>\n",
              "</div>"
            ],
            "text/plain": [
              "       Airline    Source  ... Arrival_Time_hour Arrival_Time_min\n",
              "0       IndiGo  Banglore  ...                 1               10\n",
              "1    Air India   Kolkata  ...                13               15\n",
              "2  Jet Airways     Delhi  ...                 4               25\n",
              "3       IndiGo   Kolkata  ...                23               30\n",
              "4       IndiGo  Banglore  ...                21               35\n",
              "\n",
              "[5 rows x 14 columns]"
            ]
          },
          "metadata": {
            "tags": []
          },
          "execution_count": 316
        }
      ]
    },
    {
      "cell_type": "code",
      "metadata": {
        "id": "egq_RAVF9ez0"
      },
      "source": [
        "#Spliting Duration 2h 50 min as 2 , 50\n",
        "def hour(x):\n",
        "  return x.split(' ')[0][0:-1]\n",
        "\n",
        "def minute(x):\n",
        "  return x.split(' ')[1][0:-1]"
      ],
      "execution_count": null,
      "outputs": []
    },
    {
      "cell_type": "code",
      "metadata": {
        "id": "2cuuQUm99tDm"
      },
      "source": [
        "data['Duration_hours']=data['Duration'].apply(hour)\n",
        "data['Duration_min']=data['Duration'].apply(minute)\n"
      ],
      "execution_count": null,
      "outputs": []
    },
    {
      "cell_type": "code",
      "metadata": {
        "colab": {
          "base_uri": "https://localhost:8080/",
          "height": 593
        },
        "id": "xwVNvcfa-DdJ",
        "outputId": "d01859a1-9007-4521-d2e3-37d229a96d9e"
      },
      "source": [
        "data.head()"
      ],
      "execution_count": null,
      "outputs": [
        {
          "output_type": "execute_result",
          "data": {
            "text/html": [
              "<div>\n",
              "<style scoped>\n",
              "    .dataframe tbody tr th:only-of-type {\n",
              "        vertical-align: middle;\n",
              "    }\n",
              "\n",
              "    .dataframe tbody tr th {\n",
              "        vertical-align: top;\n",
              "    }\n",
              "\n",
              "    .dataframe thead th {\n",
              "        text-align: right;\n",
              "    }\n",
              "</style>\n",
              "<table border=\"1\" class=\"dataframe\">\n",
              "  <thead>\n",
              "    <tr style=\"text-align: right;\">\n",
              "      <th></th>\n",
              "      <th>Airline</th>\n",
              "      <th>Source</th>\n",
              "      <th>Destination</th>\n",
              "      <th>Route</th>\n",
              "      <th>Duration</th>\n",
              "      <th>Total_Stops</th>\n",
              "      <th>Additional_Info</th>\n",
              "      <th>Price</th>\n",
              "      <th>day</th>\n",
              "      <th>month</th>\n",
              "      <th>Dep_Time_hour</th>\n",
              "      <th>Dep_Time_min</th>\n",
              "      <th>Arrival_Time_hour</th>\n",
              "      <th>Arrival_Time_min</th>\n",
              "      <th>Duration_hours</th>\n",
              "      <th>Duration_min</th>\n",
              "    </tr>\n",
              "  </thead>\n",
              "  <tbody>\n",
              "    <tr>\n",
              "      <th>0</th>\n",
              "      <td>IndiGo</td>\n",
              "      <td>Banglore</td>\n",
              "      <td>New Delhi</td>\n",
              "      <td>BLR → DEL</td>\n",
              "      <td>2h 50m</td>\n",
              "      <td>non-stop</td>\n",
              "      <td>No info</td>\n",
              "      <td>3897</td>\n",
              "      <td>24</td>\n",
              "      <td>3</td>\n",
              "      <td>22</td>\n",
              "      <td>20</td>\n",
              "      <td>1</td>\n",
              "      <td>10</td>\n",
              "      <td>2</td>\n",
              "      <td>50</td>\n",
              "    </tr>\n",
              "    <tr>\n",
              "      <th>1</th>\n",
              "      <td>Air India</td>\n",
              "      <td>Kolkata</td>\n",
              "      <td>Banglore</td>\n",
              "      <td>CCU → IXR → BBI → BLR</td>\n",
              "      <td>7h 25m</td>\n",
              "      <td>2 stops</td>\n",
              "      <td>No info</td>\n",
              "      <td>7662</td>\n",
              "      <td>5</td>\n",
              "      <td>1</td>\n",
              "      <td>5</td>\n",
              "      <td>50</td>\n",
              "      <td>13</td>\n",
              "      <td>15</td>\n",
              "      <td>7</td>\n",
              "      <td>25</td>\n",
              "    </tr>\n",
              "    <tr>\n",
              "      <th>2</th>\n",
              "      <td>Jet Airways</td>\n",
              "      <td>Delhi</td>\n",
              "      <td>Cochin</td>\n",
              "      <td>DEL → LKO → BOM → COK</td>\n",
              "      <td>19h 0m</td>\n",
              "      <td>2 stops</td>\n",
              "      <td>No info</td>\n",
              "      <td>13882</td>\n",
              "      <td>6</td>\n",
              "      <td>9</td>\n",
              "      <td>9</td>\n",
              "      <td>25</td>\n",
              "      <td>4</td>\n",
              "      <td>25</td>\n",
              "      <td>19</td>\n",
              "      <td>0</td>\n",
              "    </tr>\n",
              "    <tr>\n",
              "      <th>3</th>\n",
              "      <td>IndiGo</td>\n",
              "      <td>Kolkata</td>\n",
              "      <td>Banglore</td>\n",
              "      <td>CCU → NAG → BLR</td>\n",
              "      <td>5h 25m</td>\n",
              "      <td>1 stop</td>\n",
              "      <td>No info</td>\n",
              "      <td>6218</td>\n",
              "      <td>5</td>\n",
              "      <td>12</td>\n",
              "      <td>18</td>\n",
              "      <td>5</td>\n",
              "      <td>23</td>\n",
              "      <td>30</td>\n",
              "      <td>5</td>\n",
              "      <td>25</td>\n",
              "    </tr>\n",
              "    <tr>\n",
              "      <th>4</th>\n",
              "      <td>IndiGo</td>\n",
              "      <td>Banglore</td>\n",
              "      <td>New Delhi</td>\n",
              "      <td>BLR → NAG → DEL</td>\n",
              "      <td>4h 45m</td>\n",
              "      <td>1 stop</td>\n",
              "      <td>No info</td>\n",
              "      <td>13302</td>\n",
              "      <td>3</td>\n",
              "      <td>1</td>\n",
              "      <td>16</td>\n",
              "      <td>50</td>\n",
              "      <td>21</td>\n",
              "      <td>35</td>\n",
              "      <td>4</td>\n",
              "      <td>45</td>\n",
              "    </tr>\n",
              "  </tbody>\n",
              "</table>\n",
              "</div>"
            ],
            "text/plain": [
              "       Airline    Source  ... Duration_hours Duration_min\n",
              "0       IndiGo  Banglore  ...              2           50\n",
              "1    Air India   Kolkata  ...              7           25\n",
              "2  Jet Airways     Delhi  ...             19            0\n",
              "3       IndiGo   Kolkata  ...              5           25\n",
              "4       IndiGo  Banglore  ...              4           45\n",
              "\n",
              "[5 rows x 16 columns]"
            ]
          },
          "metadata": {
            "tags": []
          },
          "execution_count": 319
        }
      ]
    },
    {
      "cell_type": "code",
      "metadata": {
        "id": "Heu6VSwx-G5R"
      },
      "source": [
        "drop_column(data,'Duration')"
      ],
      "execution_count": null,
      "outputs": []
    },
    {
      "cell_type": "code",
      "metadata": {
        "colab": {
          "base_uri": "https://localhost:8080/"
        },
        "id": "Xl1P3eL4-OsW",
        "outputId": "db2817c1-ecf9-45cf-89f4-939f8e429743"
      },
      "source": [
        "data.dtypes"
      ],
      "execution_count": null,
      "outputs": [
        {
          "output_type": "execute_result",
          "data": {
            "text/plain": [
              "Airline              object\n",
              "Source               object\n",
              "Destination          object\n",
              "Route                object\n",
              "Total_Stops          object\n",
              "Additional_Info      object\n",
              "Price                 int64\n",
              "day                   int64\n",
              "month                 int64\n",
              "Dep_Time_hour         int64\n",
              "Dep_Time_min          int64\n",
              "Arrival_Time_hour     int64\n",
              "Arrival_Time_min      int64\n",
              "Duration_hours       object\n",
              "Duration_min         object\n",
              "dtype: object"
            ]
          },
          "metadata": {
            "tags": []
          },
          "execution_count": 321
        }
      ]
    },
    {
      "cell_type": "code",
      "metadata": {
        "id": "3uwGtP7C-U5A"
      },
      "source": [
        "data['Duration_hours'] = data['Duration_hours'].astype(int)\n",
        "data['Duration_min'] = data['Duration_min'].astype(int)"
      ],
      "execution_count": null,
      "outputs": []
    },
    {
      "cell_type": "code",
      "metadata": {
        "id": "lIuE4L9NCExl",
        "colab": {
          "base_uri": "https://localhost:8080/",
          "height": 573
        },
        "outputId": "99434e56-585e-49e8-e6cd-c784103e84cc"
      },
      "source": [
        "data.head()"
      ],
      "execution_count": null,
      "outputs": [
        {
          "output_type": "execute_result",
          "data": {
            "text/html": [
              "<div>\n",
              "<style scoped>\n",
              "    .dataframe tbody tr th:only-of-type {\n",
              "        vertical-align: middle;\n",
              "    }\n",
              "\n",
              "    .dataframe tbody tr th {\n",
              "        vertical-align: top;\n",
              "    }\n",
              "\n",
              "    .dataframe thead th {\n",
              "        text-align: right;\n",
              "    }\n",
              "</style>\n",
              "<table border=\"1\" class=\"dataframe\">\n",
              "  <thead>\n",
              "    <tr style=\"text-align: right;\">\n",
              "      <th></th>\n",
              "      <th>Airline</th>\n",
              "      <th>Source</th>\n",
              "      <th>Destination</th>\n",
              "      <th>Route</th>\n",
              "      <th>Total_Stops</th>\n",
              "      <th>Additional_Info</th>\n",
              "      <th>Price</th>\n",
              "      <th>day</th>\n",
              "      <th>month</th>\n",
              "      <th>Dep_Time_hour</th>\n",
              "      <th>Dep_Time_min</th>\n",
              "      <th>Arrival_Time_hour</th>\n",
              "      <th>Arrival_Time_min</th>\n",
              "      <th>Duration_hours</th>\n",
              "      <th>Duration_min</th>\n",
              "    </tr>\n",
              "  </thead>\n",
              "  <tbody>\n",
              "    <tr>\n",
              "      <th>0</th>\n",
              "      <td>IndiGo</td>\n",
              "      <td>Banglore</td>\n",
              "      <td>New Delhi</td>\n",
              "      <td>BLR → DEL</td>\n",
              "      <td>non-stop</td>\n",
              "      <td>No info</td>\n",
              "      <td>3897</td>\n",
              "      <td>24</td>\n",
              "      <td>3</td>\n",
              "      <td>22</td>\n",
              "      <td>20</td>\n",
              "      <td>1</td>\n",
              "      <td>10</td>\n",
              "      <td>2</td>\n",
              "      <td>50</td>\n",
              "    </tr>\n",
              "    <tr>\n",
              "      <th>1</th>\n",
              "      <td>Air India</td>\n",
              "      <td>Kolkata</td>\n",
              "      <td>Banglore</td>\n",
              "      <td>CCU → IXR → BBI → BLR</td>\n",
              "      <td>2 stops</td>\n",
              "      <td>No info</td>\n",
              "      <td>7662</td>\n",
              "      <td>5</td>\n",
              "      <td>1</td>\n",
              "      <td>5</td>\n",
              "      <td>50</td>\n",
              "      <td>13</td>\n",
              "      <td>15</td>\n",
              "      <td>7</td>\n",
              "      <td>25</td>\n",
              "    </tr>\n",
              "    <tr>\n",
              "      <th>2</th>\n",
              "      <td>Jet Airways</td>\n",
              "      <td>Delhi</td>\n",
              "      <td>Cochin</td>\n",
              "      <td>DEL → LKO → BOM → COK</td>\n",
              "      <td>2 stops</td>\n",
              "      <td>No info</td>\n",
              "      <td>13882</td>\n",
              "      <td>6</td>\n",
              "      <td>9</td>\n",
              "      <td>9</td>\n",
              "      <td>25</td>\n",
              "      <td>4</td>\n",
              "      <td>25</td>\n",
              "      <td>19</td>\n",
              "      <td>0</td>\n",
              "    </tr>\n",
              "    <tr>\n",
              "      <th>3</th>\n",
              "      <td>IndiGo</td>\n",
              "      <td>Kolkata</td>\n",
              "      <td>Banglore</td>\n",
              "      <td>CCU → NAG → BLR</td>\n",
              "      <td>1 stop</td>\n",
              "      <td>No info</td>\n",
              "      <td>6218</td>\n",
              "      <td>5</td>\n",
              "      <td>12</td>\n",
              "      <td>18</td>\n",
              "      <td>5</td>\n",
              "      <td>23</td>\n",
              "      <td>30</td>\n",
              "      <td>5</td>\n",
              "      <td>25</td>\n",
              "    </tr>\n",
              "    <tr>\n",
              "      <th>4</th>\n",
              "      <td>IndiGo</td>\n",
              "      <td>Banglore</td>\n",
              "      <td>New Delhi</td>\n",
              "      <td>BLR → NAG → DEL</td>\n",
              "      <td>1 stop</td>\n",
              "      <td>No info</td>\n",
              "      <td>13302</td>\n",
              "      <td>3</td>\n",
              "      <td>1</td>\n",
              "      <td>16</td>\n",
              "      <td>50</td>\n",
              "      <td>21</td>\n",
              "      <td>35</td>\n",
              "      <td>4</td>\n",
              "      <td>45</td>\n",
              "    </tr>\n",
              "  </tbody>\n",
              "</table>\n",
              "</div>"
            ],
            "text/plain": [
              "       Airline    Source  ... Duration_hours Duration_min\n",
              "0       IndiGo  Banglore  ...              2           50\n",
              "1    Air India   Kolkata  ...              7           25\n",
              "2  Jet Airways     Delhi  ...             19            0\n",
              "3       IndiGo   Kolkata  ...              5           25\n",
              "4       IndiGo  Banglore  ...              4           45\n",
              "\n",
              "[5 rows x 15 columns]"
            ]
          },
          "metadata": {
            "tags": []
          },
          "execution_count": 323
        }
      ]
    },
    {
      "cell_type": "code",
      "metadata": {
        "colab": {
          "base_uri": "https://localhost:8080/"
        },
        "id": "HJ-ChU4WCMOw",
        "outputId": "34aae630-95b6-4c45-9d8c-862a737bc1d0"
      },
      "source": [
        "data.dtypes"
      ],
      "execution_count": null,
      "outputs": [
        {
          "output_type": "execute_result",
          "data": {
            "text/plain": [
              "Airline              object\n",
              "Source               object\n",
              "Destination          object\n",
              "Route                object\n",
              "Total_Stops          object\n",
              "Additional_Info      object\n",
              "Price                 int64\n",
              "day                   int64\n",
              "month                 int64\n",
              "Dep_Time_hour         int64\n",
              "Dep_Time_min          int64\n",
              "Arrival_Time_hour     int64\n",
              "Arrival_Time_min      int64\n",
              "Duration_hours        int64\n",
              "Duration_min          int64\n",
              "dtype: object"
            ]
          },
          "metadata": {
            "tags": []
          },
          "execution_count": 324
        }
      ]
    },
    {
      "cell_type": "code",
      "metadata": {
        "colab": {
          "base_uri": "https://localhost:8080/"
        },
        "id": "T1i71YkcDHdZ",
        "outputId": "5d2c2ead-dbf9-4483-ed1b-63474b6ce941"
      },
      "source": [
        "continuous_col=[col for col in data.columns if data[col].dtype!='object']\n",
        "continuous_col"
      ],
      "execution_count": null,
      "outputs": [
        {
          "output_type": "execute_result",
          "data": {
            "text/plain": [
              "['Price',\n",
              " 'day',\n",
              " 'month',\n",
              " 'Dep_Time_hour',\n",
              " 'Dep_Time_min',\n",
              " 'Arrival_Time_hour',\n",
              " 'Arrival_Time_min',\n",
              " 'Duration_hours',\n",
              " 'Duration_min']"
            ]
          },
          "metadata": {
            "tags": []
          },
          "execution_count": 325
        }
      ]
    },
    {
      "cell_type": "code",
      "metadata": {
        "colab": {
          "base_uri": "https://localhost:8080/"
        },
        "id": "YZV7xBmhxt36",
        "outputId": "68855f8a-da9d-4505-a3ca-71e0c2b6a6e9"
      },
      "source": [
        "categorical_col=[col for col in data.columns if data[col].dtype=='object']\n",
        "categorical_col"
      ],
      "execution_count": null,
      "outputs": [
        {
          "output_type": "execute_result",
          "data": {
            "text/plain": [
              "['Airline', 'Source', 'Destination', 'Route', 'Total_Stops', 'Additional_Info']"
            ]
          },
          "metadata": {
            "tags": []
          },
          "execution_count": 326
        }
      ]
    },
    {
      "cell_type": "code",
      "metadata": {
        "id": "IW6Dz5Yrzu_q"
      },
      "source": [
        "categorical=data[categorical_col]"
      ],
      "execution_count": null,
      "outputs": []
    },
    {
      "cell_type": "code",
      "metadata": {
        "colab": {
          "base_uri": "https://localhost:8080/",
          "height": 203
        },
        "id": "pPLg10LA5cJF",
        "outputId": "5edd69a3-0cfa-4742-b0ac-803ca638ca15"
      },
      "source": [
        "categorical.head()"
      ],
      "execution_count": null,
      "outputs": [
        {
          "output_type": "execute_result",
          "data": {
            "text/html": [
              "<div>\n",
              "<style scoped>\n",
              "    .dataframe tbody tr th:only-of-type {\n",
              "        vertical-align: middle;\n",
              "    }\n",
              "\n",
              "    .dataframe tbody tr th {\n",
              "        vertical-align: top;\n",
              "    }\n",
              "\n",
              "    .dataframe thead th {\n",
              "        text-align: right;\n",
              "    }\n",
              "</style>\n",
              "<table border=\"1\" class=\"dataframe\">\n",
              "  <thead>\n",
              "    <tr style=\"text-align: right;\">\n",
              "      <th></th>\n",
              "      <th>Airline</th>\n",
              "      <th>Source</th>\n",
              "      <th>Destination</th>\n",
              "      <th>Route</th>\n",
              "      <th>Total_Stops</th>\n",
              "      <th>Additional_Info</th>\n",
              "    </tr>\n",
              "  </thead>\n",
              "  <tbody>\n",
              "    <tr>\n",
              "      <th>0</th>\n",
              "      <td>IndiGo</td>\n",
              "      <td>Banglore</td>\n",
              "      <td>New Delhi</td>\n",
              "      <td>BLR → DEL</td>\n",
              "      <td>non-stop</td>\n",
              "      <td>No info</td>\n",
              "    </tr>\n",
              "    <tr>\n",
              "      <th>1</th>\n",
              "      <td>Air India</td>\n",
              "      <td>Kolkata</td>\n",
              "      <td>Banglore</td>\n",
              "      <td>CCU → IXR → BBI → BLR</td>\n",
              "      <td>2 stops</td>\n",
              "      <td>No info</td>\n",
              "    </tr>\n",
              "    <tr>\n",
              "      <th>2</th>\n",
              "      <td>Jet Airways</td>\n",
              "      <td>Delhi</td>\n",
              "      <td>Cochin</td>\n",
              "      <td>DEL → LKO → BOM → COK</td>\n",
              "      <td>2 stops</td>\n",
              "      <td>No info</td>\n",
              "    </tr>\n",
              "    <tr>\n",
              "      <th>3</th>\n",
              "      <td>IndiGo</td>\n",
              "      <td>Kolkata</td>\n",
              "      <td>Banglore</td>\n",
              "      <td>CCU → NAG → BLR</td>\n",
              "      <td>1 stop</td>\n",
              "      <td>No info</td>\n",
              "    </tr>\n",
              "    <tr>\n",
              "      <th>4</th>\n",
              "      <td>IndiGo</td>\n",
              "      <td>Banglore</td>\n",
              "      <td>New Delhi</td>\n",
              "      <td>BLR → NAG → DEL</td>\n",
              "      <td>1 stop</td>\n",
              "      <td>No info</td>\n",
              "    </tr>\n",
              "  </tbody>\n",
              "</table>\n",
              "</div>"
            ],
            "text/plain": [
              "       Airline    Source  ... Total_Stops Additional_Info\n",
              "0       IndiGo  Banglore  ...    non-stop         No info\n",
              "1    Air India   Kolkata  ...     2 stops         No info\n",
              "2  Jet Airways     Delhi  ...     2 stops         No info\n",
              "3       IndiGo   Kolkata  ...      1 stop         No info\n",
              "4       IndiGo  Banglore  ...      1 stop         No info\n",
              "\n",
              "[5 rows x 6 columns]"
            ]
          },
          "metadata": {
            "tags": []
          },
          "execution_count": 328
        }
      ]
    },
    {
      "cell_type": "code",
      "metadata": {
        "colab": {
          "base_uri": "https://localhost:8080/"
        },
        "id": "qM2AcsgC07Nj",
        "outputId": "21a62c44-ff3e-40ce-b6d6-29b4ebc51bb4"
      },
      "source": [
        "categorical['Airline'].value_counts()"
      ],
      "execution_count": null,
      "outputs": [
        {
          "output_type": "execute_result",
          "data": {
            "text/plain": [
              "Jet Airways                          3849\n",
              "IndiGo                               2053\n",
              "Air India                            1751\n",
              "Multiple carriers                    1196\n",
              "SpiceJet                              818\n",
              "Vistara                               479\n",
              "Air Asia                              319\n",
              "GoAir                                 194\n",
              "Multiple carriers Premium economy      13\n",
              "Jet Airways Business                    6\n",
              "Vistara Premium economy                 3\n",
              "Trujet                                  1\n",
              "Name: Airline, dtype: int64"
            ]
          },
          "metadata": {
            "tags": []
          },
          "execution_count": 329
        }
      ]
    },
    {
      "cell_type": "code",
      "metadata": {
        "colab": {
          "base_uri": "https://localhost:8080/",
          "height": 351
        },
        "id": "9vY8dKo35qsY",
        "outputId": "bf015aa3-3a71-4daa-e83b-f23c3639b535"
      },
      "source": [
        "plt.figure(figsize=(15,5))\n",
        "sns.boxplot(x='Airline',y='Price',data=data.sort_values('Price',ascending=False))"
      ],
      "execution_count": null,
      "outputs": [
        {
          "output_type": "execute_result",
          "data": {
            "text/plain": [
              "<matplotlib.axes._subplots.AxesSubplot at 0x7f6d3c110310>"
            ]
          },
          "metadata": {
            "tags": []
          },
          "execution_count": 330
        },
        {
          "output_type": "display_data",
          "data": {
            "image/png": "[encoded data removed]",
            "text/plain": [
              "<Figure size 1080x360 with 1 Axes>"
            ]
          },
          "metadata": {
            "tags": [],
            "needs_background": "light"
          }
        }
      ]
    },
    {
      "cell_type": "code",
      "metadata": {
        "id": "nKxIEMR96OkI"
      },
      "source": [
        "Airline =pd.get_dummies(categorical['Airline'],drop_first=True)"
      ],
      "execution_count": null,
      "outputs": []
    },
    {
      "cell_type": "code",
      "metadata": {
        "colab": {
          "base_uri": "https://localhost:8080/",
          "height": 203
        },
        "id": "jUKnvcdc7Jjl",
        "outputId": "2c1f58f2-f6be-4349-ec38-c8d34df57109"
      },
      "source": [
        "Airline.head()"
      ],
      "execution_count": null,
      "outputs": [
        {
          "output_type": "execute_result",
          "data": {
            "text/html": [
              "<div>\n",
              "<style scoped>\n",
              "    .dataframe tbody tr th:only-of-type {\n",
              "        vertical-align: middle;\n",
              "    }\n",
              "\n",
              "    .dataframe tbody tr th {\n",
              "        vertical-align: top;\n",
              "    }\n",
              "\n",
              "    .dataframe thead th {\n",
              "        text-align: right;\n",
              "    }\n",
              "</style>\n",
              "<table border=\"1\" class=\"dataframe\">\n",
              "  <thead>\n",
              "    <tr style=\"text-align: right;\">\n",
              "      <th></th>\n",
              "      <th>Air India</th>\n",
              "      <th>GoAir</th>\n",
              "      <th>IndiGo</th>\n",
              "      <th>Jet Airways</th>\n",
              "      <th>Jet Airways Business</th>\n",
              "      <th>Multiple carriers</th>\n",
              "      <th>Multiple carriers Premium economy</th>\n",
              "      <th>SpiceJet</th>\n",
              "      <th>Trujet</th>\n",
              "      <th>Vistara</th>\n",
              "      <th>Vistara Premium economy</th>\n",
              "    </tr>\n",
              "  </thead>\n",
              "  <tbody>\n",
              "    <tr>\n",
              "      <th>0</th>\n",
              "      <td>0</td>\n",
              "      <td>0</td>\n",
              "      <td>1</td>\n",
              "      <td>0</td>\n",
              "      <td>0</td>\n",
              "      <td>0</td>\n",
              "      <td>0</td>\n",
              "      <td>0</td>\n",
              "      <td>0</td>\n",
              "      <td>0</td>\n",
              "      <td>0</td>\n",
              "    </tr>\n",
              "    <tr>\n",
              "      <th>1</th>\n",
              "      <td>1</td>\n",
              "      <td>0</td>\n",
              "      <td>0</td>\n",
              "      <td>0</td>\n",
              "      <td>0</td>\n",
              "      <td>0</td>\n",
              "      <td>0</td>\n",
              "      <td>0</td>\n",
              "      <td>0</td>\n",
              "      <td>0</td>\n",
              "      <td>0</td>\n",
              "    </tr>\n",
              "    <tr>\n",
              "      <th>2</th>\n",
              "      <td>0</td>\n",
              "      <td>0</td>\n",
              "      <td>0</td>\n",
              "      <td>1</td>\n",
              "      <td>0</td>\n",
              "      <td>0</td>\n",
              "      <td>0</td>\n",
              "      <td>0</td>\n",
              "      <td>0</td>\n",
              "      <td>0</td>\n",
              "      <td>0</td>\n",
              "    </tr>\n",
              "    <tr>\n",
              "      <th>3</th>\n",
              "      <td>0</td>\n",
              "      <td>0</td>\n",
              "      <td>1</td>\n",
              "      <td>0</td>\n",
              "      <td>0</td>\n",
              "      <td>0</td>\n",
              "      <td>0</td>\n",
              "      <td>0</td>\n",
              "      <td>0</td>\n",
              "      <td>0</td>\n",
              "      <td>0</td>\n",
              "    </tr>\n",
              "    <tr>\n",
              "      <th>4</th>\n",
              "      <td>0</td>\n",
              "      <td>0</td>\n",
              "      <td>1</td>\n",
              "      <td>0</td>\n",
              "      <td>0</td>\n",
              "      <td>0</td>\n",
              "      <td>0</td>\n",
              "      <td>0</td>\n",
              "      <td>0</td>\n",
              "      <td>0</td>\n",
              "      <td>0</td>\n",
              "    </tr>\n",
              "  </tbody>\n",
              "</table>\n",
              "</div>"
            ],
            "text/plain": [
              "   Air India  GoAir  IndiGo  ...  Trujet  Vistara  Vistara Premium economy\n",
              "0          0      0       1  ...       0        0                        0\n",
              "1          1      0       0  ...       0        0                        0\n",
              "2          0      0       0  ...       0        0                        0\n",
              "3          0      0       1  ...       0        0                        0\n",
              "4          0      0       1  ...       0        0                        0\n",
              "\n",
              "[5 rows x 11 columns]"
            ]
          },
          "metadata": {
            "tags": []
          },
          "execution_count": 332
        }
      ]
    },
    {
      "cell_type": "code",
      "metadata": {
        "colab": {
          "base_uri": "https://localhost:8080/"
        },
        "id": "w36JLyjI7PXq",
        "outputId": "5d9f9640-436c-4419-e793-36b8e5279394"
      },
      "source": [
        "categorical['Source'].value_counts()"
      ],
      "execution_count": null,
      "outputs": [
        {
          "output_type": "execute_result",
          "data": {
            "text/plain": [
              "Delhi       4536\n",
              "Kolkata     2871\n",
              "Banglore    2197\n",
              "Mumbai       697\n",
              "Chennai      381\n",
              "Name: Source, dtype: int64"
            ]
          },
          "metadata": {
            "tags": []
          },
          "execution_count": 333
        }
      ]
    },
    {
      "cell_type": "code",
      "metadata": {
        "colab": {
          "base_uri": "https://localhost:8080/",
          "height": 351
        },
        "id": "oA_rLMBs7tsQ",
        "outputId": "54913341-f12d-47b6-800e-bc2ba237c3f5"
      },
      "source": [
        "plt.figure(figsize=(15,5))\n",
        "sns.boxplot(x='Source',y='Price',data=data.sort_values('Price',ascending=False))"
      ],
      "execution_count": null,
      "outputs": [
        {
          "output_type": "execute_result",
          "data": {
            "text/plain": [
              "<matplotlib.axes._subplots.AxesSubplot at 0x7f6d3bb87cd0>"
            ]
          },
          "metadata": {
            "tags": []
          },
          "execution_count": 334
        },
        {
          "output_type": "display_data",
          "data": {
            "image/png": "[encoded data removed]",
            "text/plain": [
              "<Figure size 1080x360 with 1 Axes>"
            ]
          },
          "metadata": {
            "tags": [],
            "needs_background": "light"
          }
        }
      ]
    },
    {
      "cell_type": "code",
      "metadata": {
        "id": "Gbx6jr707z2p"
      },
      "source": [
        "Source =pd.get_dummies(categorical['Source'],drop_first=True)"
      ],
      "execution_count": null,
      "outputs": []
    },
    {
      "cell_type": "code",
      "metadata": {
        "colab": {
          "base_uri": "https://localhost:8080/",
          "height": 203
        },
        "id": "waIjS5dP7_6Y",
        "outputId": "6f51a848-1a5c-4969-a43d-847179ba21c9"
      },
      "source": [
        "Source.head()"
      ],
      "execution_count": null,
      "outputs": [
        {
          "output_type": "execute_result",
          "data": {
            "text/html": [
              "<div>\n",
              "<style scoped>\n",
              "    .dataframe tbody tr th:only-of-type {\n",
              "        vertical-align: middle;\n",
              "    }\n",
              "\n",
              "    .dataframe tbody tr th {\n",
              "        vertical-align: top;\n",
              "    }\n",
              "\n",
              "    .dataframe thead th {\n",
              "        text-align: right;\n",
              "    }\n",
              "</style>\n",
              "<table border=\"1\" class=\"dataframe\">\n",
              "  <thead>\n",
              "    <tr style=\"text-align: right;\">\n",
              "      <th></th>\n",
              "      <th>Chennai</th>\n",
              "      <th>Delhi</th>\n",
              "      <th>Kolkata</th>\n",
              "      <th>Mumbai</th>\n",
              "    </tr>\n",
              "  </thead>\n",
              "  <tbody>\n",
              "    <tr>\n",
              "      <th>0</th>\n",
              "      <td>0</td>\n",
              "      <td>0</td>\n",
              "      <td>0</td>\n",
              "      <td>0</td>\n",
              "    </tr>\n",
              "    <tr>\n",
              "      <th>1</th>\n",
              "      <td>0</td>\n",
              "      <td>0</td>\n",
              "      <td>1</td>\n",
              "      <td>0</td>\n",
              "    </tr>\n",
              "    <tr>\n",
              "      <th>2</th>\n",
              "      <td>0</td>\n",
              "      <td>1</td>\n",
              "      <td>0</td>\n",
              "      <td>0</td>\n",
              "    </tr>\n",
              "    <tr>\n",
              "      <th>3</th>\n",
              "      <td>0</td>\n",
              "      <td>0</td>\n",
              "      <td>1</td>\n",
              "      <td>0</td>\n",
              "    </tr>\n",
              "    <tr>\n",
              "      <th>4</th>\n",
              "      <td>0</td>\n",
              "      <td>0</td>\n",
              "      <td>0</td>\n",
              "      <td>0</td>\n",
              "    </tr>\n",
              "  </tbody>\n",
              "</table>\n",
              "</div>"
            ],
            "text/plain": [
              "   Chennai  Delhi  Kolkata  Mumbai\n",
              "0        0      0        0       0\n",
              "1        0      0        1       0\n",
              "2        0      1        0       0\n",
              "3        0      0        1       0\n",
              "4        0      0        0       0"
            ]
          },
          "metadata": {
            "tags": []
          },
          "execution_count": 336
        }
      ]
    },
    {
      "cell_type": "code",
      "metadata": {
        "colab": {
          "base_uri": "https://localhost:8080/"
        },
        "id": "OOwG8VnY8CHq",
        "outputId": "f578687d-41ab-427a-cb1b-35ee90cc724e"
      },
      "source": [
        "categorical['Destination'].value_counts()"
      ],
      "execution_count": null,
      "outputs": [
        {
          "output_type": "execute_result",
          "data": {
            "text/plain": [
              "Cochin       4536\n",
              "Banglore     2871\n",
              "Delhi        1265\n",
              "New Delhi     932\n",
              "Hyderabad     697\n",
              "Kolkata       381\n",
              "Name: Destination, dtype: int64"
            ]
          },
          "metadata": {
            "tags": []
          },
          "execution_count": 337
        }
      ]
    },
    {
      "cell_type": "code",
      "metadata": {
        "colab": {
          "base_uri": "https://localhost:8080/",
          "height": 351
        },
        "id": "D_hu1I1l8JOX",
        "outputId": "9ab23d8c-6b32-4475-e6db-60193bca9e74"
      },
      "source": [
        "plt.figure(figsize=(15,5))\n",
        "sns.boxplot(x='Destination',y='Price',data=data.sort_values('Price',ascending=False))"
      ],
      "execution_count": null,
      "outputs": [
        {
          "output_type": "execute_result",
          "data": {
            "text/plain": [
              "<matplotlib.axes._subplots.AxesSubplot at 0x7f6d3b933610>"
            ]
          },
          "metadata": {
            "tags": []
          },
          "execution_count": 338
        },
        {
          "output_type": "display_data",
          "data": {
            "image/png": "[encoded data removed]",
            "text/plain": [
              "<Figure size 1080x360 with 1 Axes>"
            ]
          },
          "metadata": {
            "tags": [],
            "needs_background": "light"
          }
        }
      ]
    },
    {
      "cell_type": "code",
      "metadata": {
        "colab": {
          "base_uri": "https://localhost:8080/",
          "height": 203
        },
        "id": "QeWkVWwt8aLN",
        "outputId": "8f5940d3-7e5d-4428-be51-ca3f264bc0dd"
      },
      "source": [
        "Destination =pd.get_dummies(categorical['Destination'],drop_first=True)\n",
        "Destination.head()"
      ],
      "execution_count": null,
      "outputs": [
        {
          "output_type": "execute_result",
          "data": {
            "text/html": [
              "<div>\n",
              "<style scoped>\n",
              "    .dataframe tbody tr th:only-of-type {\n",
              "        vertical-align: middle;\n",
              "    }\n",
              "\n",
              "    .dataframe tbody tr th {\n",
              "        vertical-align: top;\n",
              "    }\n",
              "\n",
              "    .dataframe thead th {\n",
              "        text-align: right;\n",
              "    }\n",
              "</style>\n",
              "<table border=\"1\" class=\"dataframe\">\n",
              "  <thead>\n",
              "    <tr style=\"text-align: right;\">\n",
              "      <th></th>\n",
              "      <th>Cochin</th>\n",
              "      <th>Delhi</th>\n",
              "      <th>Hyderabad</th>\n",
              "      <th>Kolkata</th>\n",
              "      <th>New Delhi</th>\n",
              "    </tr>\n",
              "  </thead>\n",
              "  <tbody>\n",
              "    <tr>\n",
              "      <th>0</th>\n",
              "      <td>0</td>\n",
              "      <td>0</td>\n",
              "      <td>0</td>\n",
              "      <td>0</td>\n",
              "      <td>1</td>\n",
              "    </tr>\n",
              "    <tr>\n",
              "      <th>1</th>\n",
              "      <td>0</td>\n",
              "      <td>0</td>\n",
              "      <td>0</td>\n",
              "      <td>0</td>\n",
              "      <td>0</td>\n",
              "    </tr>\n",
              "    <tr>\n",
              "      <th>2</th>\n",
              "      <td>1</td>\n",
              "      <td>0</td>\n",
              "      <td>0</td>\n",
              "      <td>0</td>\n",
              "      <td>0</td>\n",
              "    </tr>\n",
              "    <tr>\n",
              "      <th>3</th>\n",
              "      <td>0</td>\n",
              "      <td>0</td>\n",
              "      <td>0</td>\n",
              "      <td>0</td>\n",
              "      <td>0</td>\n",
              "    </tr>\n",
              "    <tr>\n",
              "      <th>4</th>\n",
              "      <td>0</td>\n",
              "      <td>0</td>\n",
              "      <td>0</td>\n",
              "      <td>0</td>\n",
              "      <td>1</td>\n",
              "    </tr>\n",
              "  </tbody>\n",
              "</table>\n",
              "</div>"
            ],
            "text/plain": [
              "   Cochin  Delhi  Hyderabad  Kolkata  New Delhi\n",
              "0       0      0          0        0          1\n",
              "1       0      0          0        0          0\n",
              "2       1      0          0        0          0\n",
              "3       0      0          0        0          0\n",
              "4       0      0          0        0          1"
            ]
          },
          "metadata": {
            "tags": []
          },
          "execution_count": 339
        }
      ]
    },
    {
      "cell_type": "code",
      "metadata": {
        "id": "KGIj6_EN8fVR"
      },
      "source": [
        "categorical['Route_1']=categorical['Route'].str.split('→').str[0]\n",
        "categorical['Route_2']=categorical['Route'].str.split('→').str[1]\n",
        "categorical['Route_3']=categorical['Route'].str.split('→').str[2]\n",
        "categorical['Route_4']=categorical['Route'].str.split('→').str[3]\n",
        "categorical['Route_5']=categorical['Route'].str.split('→').str[4]"
      ],
      "execution_count": null,
      "outputs": []
    },
    {
      "cell_type": "code",
      "metadata": {
        "colab": {
          "base_uri": "https://localhost:8080/",
          "height": 203
        },
        "id": "ZYwojwFU97mE",
        "outputId": "a09fdfd5-343c-4257-b693-c03520bdefad"
      },
      "source": [
        "categorical.head()"
      ],
      "execution_count": null,
      "outputs": [
        {
          "output_type": "execute_result",
          "data": {
            "text/html": [
              "<div>\n",
              "<style scoped>\n",
              "    .dataframe tbody tr th:only-of-type {\n",
              "        vertical-align: middle;\n",
              "    }\n",
              "\n",
              "    .dataframe tbody tr th {\n",
              "        vertical-align: top;\n",
              "    }\n",
              "\n",
              "    .dataframe thead th {\n",
              "        text-align: right;\n",
              "    }\n",
              "</style>\n",
              "<table border=\"1\" class=\"dataframe\">\n",
              "  <thead>\n",
              "    <tr style=\"text-align: right;\">\n",
              "      <th></th>\n",
              "      <th>Airline</th>\n",
              "      <th>Source</th>\n",
              "      <th>Destination</th>\n",
              "      <th>Route</th>\n",
              "      <th>Total_Stops</th>\n",
              "      <th>Additional_Info</th>\n",
              "      <th>Route_1</th>\n",
              "      <th>Route_2</th>\n",
              "      <th>Route_3</th>\n",
              "      <th>Route_4</th>\n",
              "      <th>Route_5</th>\n",
              "    </tr>\n",
              "  </thead>\n",
              "  <tbody>\n",
              "    <tr>\n",
              "      <th>0</th>\n",
              "      <td>IndiGo</td>\n",
              "      <td>Banglore</td>\n",
              "      <td>New Delhi</td>\n",
              "      <td>BLR → DEL</td>\n",
              "      <td>non-stop</td>\n",
              "      <td>No info</td>\n",
              "      <td>BLR</td>\n",
              "      <td>DEL</td>\n",
              "      <td>NaN</td>\n",
              "      <td>NaN</td>\n",
              "      <td>NaN</td>\n",
              "    </tr>\n",
              "    <tr>\n",
              "      <th>1</th>\n",
              "      <td>Air India</td>\n",
              "      <td>Kolkata</td>\n",
              "      <td>Banglore</td>\n",
              "      <td>CCU → IXR → BBI → BLR</td>\n",
              "      <td>2 stops</td>\n",
              "      <td>No info</td>\n",
              "      <td>CCU</td>\n",
              "      <td>IXR</td>\n",
              "      <td>BBI</td>\n",
              "      <td>BLR</td>\n",
              "      <td>NaN</td>\n",
              "    </tr>\n",
              "    <tr>\n",
              "      <th>2</th>\n",
              "      <td>Jet Airways</td>\n",
              "      <td>Delhi</td>\n",
              "      <td>Cochin</td>\n",
              "      <td>DEL → LKO → BOM → COK</td>\n",
              "      <td>2 stops</td>\n",
              "      <td>No info</td>\n",
              "      <td>DEL</td>\n",
              "      <td>LKO</td>\n",
              "      <td>BOM</td>\n",
              "      <td>COK</td>\n",
              "      <td>NaN</td>\n",
              "    </tr>\n",
              "    <tr>\n",
              "      <th>3</th>\n",
              "      <td>IndiGo</td>\n",
              "      <td>Kolkata</td>\n",
              "      <td>Banglore</td>\n",
              "      <td>CCU → NAG → BLR</td>\n",
              "      <td>1 stop</td>\n",
              "      <td>No info</td>\n",
              "      <td>CCU</td>\n",
              "      <td>NAG</td>\n",
              "      <td>BLR</td>\n",
              "      <td>NaN</td>\n",
              "      <td>NaN</td>\n",
              "    </tr>\n",
              "    <tr>\n",
              "      <th>4</th>\n",
              "      <td>IndiGo</td>\n",
              "      <td>Banglore</td>\n",
              "      <td>New Delhi</td>\n",
              "      <td>BLR → NAG → DEL</td>\n",
              "      <td>1 stop</td>\n",
              "      <td>No info</td>\n",
              "      <td>BLR</td>\n",
              "      <td>NAG</td>\n",
              "      <td>DEL</td>\n",
              "      <td>NaN</td>\n",
              "      <td>NaN</td>\n",
              "    </tr>\n",
              "  </tbody>\n",
              "</table>\n",
              "</div>"
            ],
            "text/plain": [
              "       Airline    Source Destination  ... Route_3 Route_4 Route_5\n",
              "0       IndiGo  Banglore   New Delhi  ...     NaN     NaN     NaN\n",
              "1    Air India   Kolkata    Banglore  ...    BBI      BLR     NaN\n",
              "2  Jet Airways     Delhi      Cochin  ...    BOM      COK     NaN\n",
              "3       IndiGo   Kolkata    Banglore  ...     BLR     NaN     NaN\n",
              "4       IndiGo  Banglore   New Delhi  ...     DEL     NaN     NaN\n",
              "\n",
              "[5 rows x 11 columns]"
            ]
          },
          "metadata": {
            "tags": []
          },
          "execution_count": 341
        }
      ]
    },
    {
      "cell_type": "code",
      "metadata": {
        "id": "aJtC7Q7S-C0V"
      },
      "source": [
        "drop_column(categorical,'Route')"
      ],
      "execution_count": null,
      "outputs": []
    },
    {
      "cell_type": "code",
      "metadata": {
        "colab": {
          "base_uri": "https://localhost:8080/"
        },
        "id": "_kaFVph7-MlI",
        "outputId": "32255650-1bf5-4eff-80f7-330c751a94fc"
      },
      "source": [
        "categorical.isnull().sum()"
      ],
      "execution_count": null,
      "outputs": [
        {
          "output_type": "execute_result",
          "data": {
            "text/plain": [
              "Airline                0\n",
              "Source                 0\n",
              "Destination            0\n",
              "Total_Stops            0\n",
              "Additional_Info        0\n",
              "Route_1                0\n",
              "Route_2                0\n",
              "Route_3             3491\n",
              "Route_4             9116\n",
              "Route_5            10636\n",
              "dtype: int64"
            ]
          },
          "metadata": {
            "tags": []
          },
          "execution_count": 343
        }
      ]
    },
    {
      "cell_type": "code",
      "metadata": {
        "id": "QgTmSm-c-SpP"
      },
      "source": [
        "for i in ['Route_3','Route_4','Route_5']:\n",
        "  categorical[i].fillna('None',inplace=True)"
      ],
      "execution_count": null,
      "outputs": []
    },
    {
      "cell_type": "code",
      "metadata": {
        "colab": {
          "base_uri": "https://localhost:8080/"
        },
        "id": "LxELw1ysAmLi",
        "outputId": "fa1ccb92-dbb5-42a4-e4a4-aa160d20124f"
      },
      "source": [
        "categorical.isnull().sum()"
      ],
      "execution_count": null,
      "outputs": [
        {
          "output_type": "execute_result",
          "data": {
            "text/plain": [
              "Airline            0\n",
              "Source             0\n",
              "Destination        0\n",
              "Total_Stops        0\n",
              "Additional_Info    0\n",
              "Route_1            0\n",
              "Route_2            0\n",
              "Route_3            0\n",
              "Route_4            0\n",
              "Route_5            0\n",
              "dtype: int64"
            ]
          },
          "metadata": {
            "tags": []
          },
          "execution_count": 345
        }
      ]
    },
    {
      "cell_type": "code",
      "metadata": {
        "colab": {
          "base_uri": "https://localhost:8080/"
        },
        "id": "-N0a16qvAsuk",
        "outputId": "78983cd8-294d-4c8f-d03b-15cd4073f682"
      },
      "source": [
        "for i in categorical.columns:\n",
        "  print('{} {} categories'.format(i,len(categorical[i].value_counts())))"
      ],
      "execution_count": null,
      "outputs": [
        {
          "output_type": "stream",
          "text": [
            "Airline 12 categories\n",
            "Source 5 categories\n",
            "Destination 6 categories\n",
            "Total_Stops 5 categories\n",
            "Additional_Info 10 categories\n",
            "Route_1 5 categories\n",
            "Route_2 45 categories\n",
            "Route_3 30 categories\n",
            "Route_4 14 categories\n",
            "Route_5 6 categories\n"
          ],
          "name": "stdout"
        }
      ]
    },
    {
      "cell_type": "code",
      "metadata": {
        "colab": {
          "base_uri": "https://localhost:8080/"
        },
        "id": "HJwo6KplBaMo",
        "outputId": "25890785-74a0-4959-df54-f3c58ade5a37"
      },
      "source": [
        "from sklearn.preprocessing import LabelEncoder\n",
        "encoder = LabelEncoder()\n",
        "categorical.columns"
      ],
      "execution_count": null,
      "outputs": [
        {
          "output_type": "execute_result",
          "data": {
            "text/plain": [
              "Index(['Airline', 'Source', 'Destination', 'Total_Stops', 'Additional_Info',\n",
              "       'Route_1', 'Route_2', 'Route_3', 'Route_4', 'Route_5'],\n",
              "      dtype='object')"
            ]
          },
          "metadata": {
            "tags": []
          },
          "execution_count": 347
        }
      ]
    },
    {
      "cell_type": "code",
      "metadata": {
        "id": "jtqi8jAxCC1S"
      },
      "source": [
        "for i in ['Route_1','Route_2','Route_3','Route_4','Route_5']:\n",
        "  categorical[i]=encoder.fit_transform(categorical[i])"
      ],
      "execution_count": null,
      "outputs": []
    },
    {
      "cell_type": "code",
      "metadata": {
        "colab": {
          "base_uri": "https://localhost:8080/",
          "height": 203
        },
        "id": "jKLcxYm2CZEn",
        "outputId": "b45ce448-a916-49ac-ea10-5756fba5f068"
      },
      "source": [
        "categorical.head()"
      ],
      "execution_count": null,
      "outputs": [
        {
          "output_type": "execute_result",
          "data": {
            "text/html": [
              "<div>\n",
              "<style scoped>\n",
              "    .dataframe tbody tr th:only-of-type {\n",
              "        vertical-align: middle;\n",
              "    }\n",
              "\n",
              "    .dataframe tbody tr th {\n",
              "        vertical-align: top;\n",
              "    }\n",
              "\n",
              "    .dataframe thead th {\n",
              "        text-align: right;\n",
              "    }\n",
              "</style>\n",
              "<table border=\"1\" class=\"dataframe\">\n",
              "  <thead>\n",
              "    <tr style=\"text-align: right;\">\n",
              "      <th></th>\n",
              "      <th>Airline</th>\n",
              "      <th>Source</th>\n",
              "      <th>Destination</th>\n",
              "      <th>Total_Stops</th>\n",
              "      <th>Additional_Info</th>\n",
              "      <th>Route_1</th>\n",
              "      <th>Route_2</th>\n",
              "      <th>Route_3</th>\n",
              "      <th>Route_4</th>\n",
              "      <th>Route_5</th>\n",
              "    </tr>\n",
              "  </thead>\n",
              "  <tbody>\n",
              "    <tr>\n",
              "      <th>0</th>\n",
              "      <td>IndiGo</td>\n",
              "      <td>Banglore</td>\n",
              "      <td>New Delhi</td>\n",
              "      <td>non-stop</td>\n",
              "      <td>No info</td>\n",
              "      <td>0</td>\n",
              "      <td>13</td>\n",
              "      <td>29</td>\n",
              "      <td>13</td>\n",
              "      <td>5</td>\n",
              "    </tr>\n",
              "    <tr>\n",
              "      <th>1</th>\n",
              "      <td>Air India</td>\n",
              "      <td>Kolkata</td>\n",
              "      <td>Banglore</td>\n",
              "      <td>2 stops</td>\n",
              "      <td>No info</td>\n",
              "      <td>2</td>\n",
              "      <td>25</td>\n",
              "      <td>1</td>\n",
              "      <td>3</td>\n",
              "      <td>5</td>\n",
              "    </tr>\n",
              "    <tr>\n",
              "      <th>2</th>\n",
              "      <td>Jet Airways</td>\n",
              "      <td>Delhi</td>\n",
              "      <td>Cochin</td>\n",
              "      <td>2 stops</td>\n",
              "      <td>No info</td>\n",
              "      <td>3</td>\n",
              "      <td>32</td>\n",
              "      <td>4</td>\n",
              "      <td>5</td>\n",
              "      <td>5</td>\n",
              "    </tr>\n",
              "    <tr>\n",
              "      <th>3</th>\n",
              "      <td>IndiGo</td>\n",
              "      <td>Kolkata</td>\n",
              "      <td>Banglore</td>\n",
              "      <td>1 stop</td>\n",
              "      <td>No info</td>\n",
              "      <td>2</td>\n",
              "      <td>34</td>\n",
              "      <td>3</td>\n",
              "      <td>13</td>\n",
              "      <td>5</td>\n",
              "    </tr>\n",
              "    <tr>\n",
              "      <th>4</th>\n",
              "      <td>IndiGo</td>\n",
              "      <td>Banglore</td>\n",
              "      <td>New Delhi</td>\n",
              "      <td>1 stop</td>\n",
              "      <td>No info</td>\n",
              "      <td>0</td>\n",
              "      <td>34</td>\n",
              "      <td>8</td>\n",
              "      <td>13</td>\n",
              "      <td>5</td>\n",
              "    </tr>\n",
              "  </tbody>\n",
              "</table>\n",
              "</div>"
            ],
            "text/plain": [
              "       Airline    Source Destination  ... Route_3 Route_4  Route_5\n",
              "0       IndiGo  Banglore   New Delhi  ...      29      13        5\n",
              "1    Air India   Kolkata    Banglore  ...       1       3        5\n",
              "2  Jet Airways     Delhi      Cochin  ...       4       5        5\n",
              "3       IndiGo   Kolkata    Banglore  ...       3      13        5\n",
              "4       IndiGo  Banglore   New Delhi  ...       8      13        5\n",
              "\n",
              "[5 rows x 10 columns]"
            ]
          },
          "metadata": {
            "tags": []
          },
          "execution_count": 349
        }
      ]
    },
    {
      "cell_type": "code",
      "metadata": {
        "id": "AiQl_YGsCaiX"
      },
      "source": [
        "drop_column(categorical,'Additional_Info')"
      ],
      "execution_count": null,
      "outputs": []
    },
    {
      "cell_type": "code",
      "metadata": {
        "colab": {
          "base_uri": "https://localhost:8080/",
          "height": 203
        },
        "id": "4WzS6T3FClDK",
        "outputId": "f77c993e-2493-4d12-f179-5ffeffabf3f5"
      },
      "source": [
        "categorical.head()"
      ],
      "execution_count": null,
      "outputs": [
        {
          "output_type": "execute_result",
          "data": {
            "text/html": [
              "<div>\n",
              "<style scoped>\n",
              "    .dataframe tbody tr th:only-of-type {\n",
              "        vertical-align: middle;\n",
              "    }\n",
              "\n",
              "    .dataframe tbody tr th {\n",
              "        vertical-align: top;\n",
              "    }\n",
              "\n",
              "    .dataframe thead th {\n",
              "        text-align: right;\n",
              "    }\n",
              "</style>\n",
              "<table border=\"1\" class=\"dataframe\">\n",
              "  <thead>\n",
              "    <tr style=\"text-align: right;\">\n",
              "      <th></th>\n",
              "      <th>Airline</th>\n",
              "      <th>Source</th>\n",
              "      <th>Destination</th>\n",
              "      <th>Total_Stops</th>\n",
              "      <th>Route_1</th>\n",
              "      <th>Route_2</th>\n",
              "      <th>Route_3</th>\n",
              "      <th>Route_4</th>\n",
              "      <th>Route_5</th>\n",
              "    </tr>\n",
              "  </thead>\n",
              "  <tbody>\n",
              "    <tr>\n",
              "      <th>0</th>\n",
              "      <td>IndiGo</td>\n",
              "      <td>Banglore</td>\n",
              "      <td>New Delhi</td>\n",
              "      <td>non-stop</td>\n",
              "      <td>0</td>\n",
              "      <td>13</td>\n",
              "      <td>29</td>\n",
              "      <td>13</td>\n",
              "      <td>5</td>\n",
              "    </tr>\n",
              "    <tr>\n",
              "      <th>1</th>\n",
              "      <td>Air India</td>\n",
              "      <td>Kolkata</td>\n",
              "      <td>Banglore</td>\n",
              "      <td>2 stops</td>\n",
              "      <td>2</td>\n",
              "      <td>25</td>\n",
              "      <td>1</td>\n",
              "      <td>3</td>\n",
              "      <td>5</td>\n",
              "    </tr>\n",
              "    <tr>\n",
              "      <th>2</th>\n",
              "      <td>Jet Airways</td>\n",
              "      <td>Delhi</td>\n",
              "      <td>Cochin</td>\n",
              "      <td>2 stops</td>\n",
              "      <td>3</td>\n",
              "      <td>32</td>\n",
              "      <td>4</td>\n",
              "      <td>5</td>\n",
              "      <td>5</td>\n",
              "    </tr>\n",
              "    <tr>\n",
              "      <th>3</th>\n",
              "      <td>IndiGo</td>\n",
              "      <td>Kolkata</td>\n",
              "      <td>Banglore</td>\n",
              "      <td>1 stop</td>\n",
              "      <td>2</td>\n",
              "      <td>34</td>\n",
              "      <td>3</td>\n",
              "      <td>13</td>\n",
              "      <td>5</td>\n",
              "    </tr>\n",
              "    <tr>\n",
              "      <th>4</th>\n",
              "      <td>IndiGo</td>\n",
              "      <td>Banglore</td>\n",
              "      <td>New Delhi</td>\n",
              "      <td>1 stop</td>\n",
              "      <td>0</td>\n",
              "      <td>34</td>\n",
              "      <td>8</td>\n",
              "      <td>13</td>\n",
              "      <td>5</td>\n",
              "    </tr>\n",
              "  </tbody>\n",
              "</table>\n",
              "</div>"
            ],
            "text/plain": [
              "       Airline    Source Destination  ... Route_3  Route_4  Route_5\n",
              "0       IndiGo  Banglore   New Delhi  ...      29       13        5\n",
              "1    Air India   Kolkata    Banglore  ...       1        3        5\n",
              "2  Jet Airways     Delhi      Cochin  ...       4        5        5\n",
              "3       IndiGo   Kolkata    Banglore  ...       3       13        5\n",
              "4       IndiGo  Banglore   New Delhi  ...       8       13        5\n",
              "\n",
              "[5 rows x 9 columns]"
            ]
          },
          "metadata": {
            "tags": []
          },
          "execution_count": 351
        }
      ]
    },
    {
      "cell_type": "code",
      "metadata": {
        "colab": {
          "base_uri": "https://localhost:8080/"
        },
        "id": "Ziacr82RCnVJ",
        "outputId": "b1dcd88e-c340-498a-bccc-beae469266b1"
      },
      "source": [
        "categorical['Total_Stops'].unique()"
      ],
      "execution_count": null,
      "outputs": [
        {
          "output_type": "execute_result",
          "data": {
            "text/plain": [
              "array(['non-stop', '2 stops', '1 stop', '3 stops', '4 stops'],\n",
              "      dtype=object)"
            ]
          },
          "metadata": {
            "tags": []
          },
          "execution_count": 352
        }
      ]
    },
    {
      "cell_type": "code",
      "metadata": {
        "id": "YCCjKycYCxlq"
      },
      "source": [
        "dict = {'non-stop':0,'1 stop':1 ,'2 stops':2 ,'3 stops':3,'4 stops':4 }"
      ],
      "execution_count": null,
      "outputs": []
    },
    {
      "cell_type": "code",
      "metadata": {
        "id": "13B1D33gDUYo"
      },
      "source": [
        "categorical['Total_Stops']=categorical['Total_Stops'].map(dict)"
      ],
      "execution_count": null,
      "outputs": []
    },
    {
      "cell_type": "code",
      "metadata": {
        "colab": {
          "base_uri": "https://localhost:8080/",
          "height": 203
        },
        "id": "EIkW_QU3GTuY",
        "outputId": "01b9ea8a-30b7-4ebd-b3de-fb7d969bf4dc"
      },
      "source": [
        "categorical.head()"
      ],
      "execution_count": null,
      "outputs": [
        {
          "output_type": "execute_result",
          "data": {
            "text/html": [
              "<div>\n",
              "<style scoped>\n",
              "    .dataframe tbody tr th:only-of-type {\n",
              "        vertical-align: middle;\n",
              "    }\n",
              "\n",
              "    .dataframe tbody tr th {\n",
              "        vertical-align: top;\n",
              "    }\n",
              "\n",
              "    .dataframe thead th {\n",
              "        text-align: right;\n",
              "    }\n",
              "</style>\n",
              "<table border=\"1\" class=\"dataframe\">\n",
              "  <thead>\n",
              "    <tr style=\"text-align: right;\">\n",
              "      <th></th>\n",
              "      <th>Airline</th>\n",
              "      <th>Source</th>\n",
              "      <th>Destination</th>\n",
              "      <th>Total_Stops</th>\n",
              "      <th>Route_1</th>\n",
              "      <th>Route_2</th>\n",
              "      <th>Route_3</th>\n",
              "      <th>Route_4</th>\n",
              "      <th>Route_5</th>\n",
              "    </tr>\n",
              "  </thead>\n",
              "  <tbody>\n",
              "    <tr>\n",
              "      <th>0</th>\n",
              "      <td>IndiGo</td>\n",
              "      <td>Banglore</td>\n",
              "      <td>New Delhi</td>\n",
              "      <td>0</td>\n",
              "      <td>0</td>\n",
              "      <td>13</td>\n",
              "      <td>29</td>\n",
              "      <td>13</td>\n",
              "      <td>5</td>\n",
              "    </tr>\n",
              "    <tr>\n",
              "      <th>1</th>\n",
              "      <td>Air India</td>\n",
              "      <td>Kolkata</td>\n",
              "      <td>Banglore</td>\n",
              "      <td>2</td>\n",
              "      <td>2</td>\n",
              "      <td>25</td>\n",
              "      <td>1</td>\n",
              "      <td>3</td>\n",
              "      <td>5</td>\n",
              "    </tr>\n",
              "    <tr>\n",
              "      <th>2</th>\n",
              "      <td>Jet Airways</td>\n",
              "      <td>Delhi</td>\n",
              "      <td>Cochin</td>\n",
              "      <td>2</td>\n",
              "      <td>3</td>\n",
              "      <td>32</td>\n",
              "      <td>4</td>\n",
              "      <td>5</td>\n",
              "      <td>5</td>\n",
              "    </tr>\n",
              "    <tr>\n",
              "      <th>3</th>\n",
              "      <td>IndiGo</td>\n",
              "      <td>Kolkata</td>\n",
              "      <td>Banglore</td>\n",
              "      <td>1</td>\n",
              "      <td>2</td>\n",
              "      <td>34</td>\n",
              "      <td>3</td>\n",
              "      <td>13</td>\n",
              "      <td>5</td>\n",
              "    </tr>\n",
              "    <tr>\n",
              "      <th>4</th>\n",
              "      <td>IndiGo</td>\n",
              "      <td>Banglore</td>\n",
              "      <td>New Delhi</td>\n",
              "      <td>1</td>\n",
              "      <td>0</td>\n",
              "      <td>34</td>\n",
              "      <td>8</td>\n",
              "      <td>13</td>\n",
              "      <td>5</td>\n",
              "    </tr>\n",
              "  </tbody>\n",
              "</table>\n",
              "</div>"
            ],
            "text/plain": [
              "       Airline    Source Destination  ...  Route_3  Route_4  Route_5\n",
              "0       IndiGo  Banglore   New Delhi  ...       29       13        5\n",
              "1    Air India   Kolkata    Banglore  ...        1        3        5\n",
              "2  Jet Airways     Delhi      Cochin  ...        4        5        5\n",
              "3       IndiGo   Kolkata    Banglore  ...        3       13        5\n",
              "4       IndiGo  Banglore   New Delhi  ...        8       13        5\n",
              "\n",
              "[5 rows x 9 columns]"
            ]
          },
          "metadata": {
            "tags": []
          },
          "execution_count": 355
        }
      ]
    },
    {
      "cell_type": "code",
      "metadata": {
        "id": "xIOjvqCmGZg4"
      },
      "source": [
        "data_train= pd.concat([categorical,Airline,Source,Destination,data[continuous_col]],axis=1)"
      ],
      "execution_count": null,
      "outputs": []
    },
    {
      "cell_type": "code",
      "metadata": {
        "colab": {
          "base_uri": "https://localhost:8080/",
          "height": 290
        },
        "id": "fZRYqYJtG-A_",
        "outputId": "565be12e-4ab5-458c-cd09-b8e06a0fd797"
      },
      "source": [
        "data_train.head()"
      ],
      "execution_count": null,
      "outputs": [
        {
          "output_type": "execute_result",
          "data": {
            "text/html": [
              "<div>\n",
              "<style scoped>\n",
              "    .dataframe tbody tr th:only-of-type {\n",
              "        vertical-align: middle;\n",
              "    }\n",
              "\n",
              "    .dataframe tbody tr th {\n",
              "        vertical-align: top;\n",
              "    }\n",
              "\n",
              "    .dataframe thead th {\n",
              "        text-align: right;\n",
              "    }\n",
              "</style>\n",
              "<table border=\"1\" class=\"dataframe\">\n",
              "  <thead>\n",
              "    <tr style=\"text-align: right;\">\n",
              "      <th></th>\n",
              "      <th>Airline</th>\n",
              "      <th>Source</th>\n",
              "      <th>Destination</th>\n",
              "      <th>Total_Stops</th>\n",
              "      <th>Route_1</th>\n",
              "      <th>Route_2</th>\n",
              "      <th>Route_3</th>\n",
              "      <th>Route_4</th>\n",
              "      <th>Route_5</th>\n",
              "      <th>Air India</th>\n",
              "      <th>GoAir</th>\n",
              "      <th>IndiGo</th>\n",
              "      <th>Jet Airways</th>\n",
              "      <th>Jet Airways Business</th>\n",
              "      <th>Multiple carriers</th>\n",
              "      <th>Multiple carriers Premium economy</th>\n",
              "      <th>SpiceJet</th>\n",
              "      <th>Trujet</th>\n",
              "      <th>Vistara</th>\n",
              "      <th>Vistara Premium economy</th>\n",
              "      <th>Chennai</th>\n",
              "      <th>Delhi</th>\n",
              "      <th>Kolkata</th>\n",
              "      <th>Mumbai</th>\n",
              "      <th>Cochin</th>\n",
              "      <th>Delhi</th>\n",
              "      <th>Hyderabad</th>\n",
              "      <th>Kolkata</th>\n",
              "      <th>New Delhi</th>\n",
              "      <th>Price</th>\n",
              "      <th>day</th>\n",
              "      <th>month</th>\n",
              "      <th>Dep_Time_hour</th>\n",
              "      <th>Dep_Time_min</th>\n",
              "      <th>Arrival_Time_hour</th>\n",
              "      <th>Arrival_Time_min</th>\n",
              "      <th>Duration_hours</th>\n",
              "      <th>Duration_min</th>\n",
              "    </tr>\n",
              "  </thead>\n",
              "  <tbody>\n",
              "    <tr>\n",
              "      <th>0</th>\n",
              "      <td>IndiGo</td>\n",
              "      <td>Banglore</td>\n",
              "      <td>New Delhi</td>\n",
              "      <td>0</td>\n",
              "      <td>0</td>\n",
              "      <td>13</td>\n",
              "      <td>29</td>\n",
              "      <td>13</td>\n",
              "      <td>5</td>\n",
              "      <td>0</td>\n",
              "      <td>0</td>\n",
              "      <td>1</td>\n",
              "      <td>0</td>\n",
              "      <td>0</td>\n",
              "      <td>0</td>\n",
              "      <td>0</td>\n",
              "      <td>0</td>\n",
              "      <td>0</td>\n",
              "      <td>0</td>\n",
              "      <td>0</td>\n",
              "      <td>0</td>\n",
              "      <td>0</td>\n",
              "      <td>0</td>\n",
              "      <td>0</td>\n",
              "      <td>0</td>\n",
              "      <td>0</td>\n",
              "      <td>0</td>\n",
              "      <td>0</td>\n",
              "      <td>1</td>\n",
              "      <td>3897</td>\n",
              "      <td>24</td>\n",
              "      <td>3</td>\n",
              "      <td>22</td>\n",
              "      <td>20</td>\n",
              "      <td>1</td>\n",
              "      <td>10</td>\n",
              "      <td>2</td>\n",
              "      <td>50</td>\n",
              "    </tr>\n",
              "    <tr>\n",
              "      <th>1</th>\n",
              "      <td>Air India</td>\n",
              "      <td>Kolkata</td>\n",
              "      <td>Banglore</td>\n",
              "      <td>2</td>\n",
              "      <td>2</td>\n",
              "      <td>25</td>\n",
              "      <td>1</td>\n",
              "      <td>3</td>\n",
              "      <td>5</td>\n",
              "      <td>1</td>\n",
              "      <td>0</td>\n",
              "      <td>0</td>\n",
              "      <td>0</td>\n",
              "      <td>0</td>\n",
              "      <td>0</td>\n",
              "      <td>0</td>\n",
              "      <td>0</td>\n",
              "      <td>0</td>\n",
              "      <td>0</td>\n",
              "      <td>0</td>\n",
              "      <td>0</td>\n",
              "      <td>0</td>\n",
              "      <td>1</td>\n",
              "      <td>0</td>\n",
              "      <td>0</td>\n",
              "      <td>0</td>\n",
              "      <td>0</td>\n",
              "      <td>0</td>\n",
              "      <td>0</td>\n",
              "      <td>7662</td>\n",
              "      <td>5</td>\n",
              "      <td>1</td>\n",
              "      <td>5</td>\n",
              "      <td>50</td>\n",
              "      <td>13</td>\n",
              "      <td>15</td>\n",
              "      <td>7</td>\n",
              "      <td>25</td>\n",
              "    </tr>\n",
              "    <tr>\n",
              "      <th>2</th>\n",
              "      <td>Jet Airways</td>\n",
              "      <td>Delhi</td>\n",
              "      <td>Cochin</td>\n",
              "      <td>2</td>\n",
              "      <td>3</td>\n",
              "      <td>32</td>\n",
              "      <td>4</td>\n",
              "      <td>5</td>\n",
              "      <td>5</td>\n",
              "      <td>0</td>\n",
              "      <td>0</td>\n",
              "      <td>0</td>\n",
              "      <td>1</td>\n",
              "      <td>0</td>\n",
              "      <td>0</td>\n",
              "      <td>0</td>\n",
              "      <td>0</td>\n",
              "      <td>0</td>\n",
              "      <td>0</td>\n",
              "      <td>0</td>\n",
              "      <td>0</td>\n",
              "      <td>1</td>\n",
              "      <td>0</td>\n",
              "      <td>0</td>\n",
              "      <td>1</td>\n",
              "      <td>0</td>\n",
              "      <td>0</td>\n",
              "      <td>0</td>\n",
              "      <td>0</td>\n",
              "      <td>13882</td>\n",
              "      <td>6</td>\n",
              "      <td>9</td>\n",
              "      <td>9</td>\n",
              "      <td>25</td>\n",
              "      <td>4</td>\n",
              "      <td>25</td>\n",
              "      <td>19</td>\n",
              "      <td>0</td>\n",
              "    </tr>\n",
              "    <tr>\n",
              "      <th>3</th>\n",
              "      <td>IndiGo</td>\n",
              "      <td>Kolkata</td>\n",
              "      <td>Banglore</td>\n",
              "      <td>1</td>\n",
              "      <td>2</td>\n",
              "      <td>34</td>\n",
              "      <td>3</td>\n",
              "      <td>13</td>\n",
              "      <td>5</td>\n",
              "      <td>0</td>\n",
              "      <td>0</td>\n",
              "      <td>1</td>\n",
              "      <td>0</td>\n",
              "      <td>0</td>\n",
              "      <td>0</td>\n",
              "      <td>0</td>\n",
              "      <td>0</td>\n",
              "      <td>0</td>\n",
              "      <td>0</td>\n",
              "      <td>0</td>\n",
              "      <td>0</td>\n",
              "      <td>0</td>\n",
              "      <td>1</td>\n",
              "      <td>0</td>\n",
              "      <td>0</td>\n",
              "      <td>0</td>\n",
              "      <td>0</td>\n",
              "      <td>0</td>\n",
              "      <td>0</td>\n",
              "      <td>6218</td>\n",
              "      <td>5</td>\n",
              "      <td>12</td>\n",
              "      <td>18</td>\n",
              "      <td>5</td>\n",
              "      <td>23</td>\n",
              "      <td>30</td>\n",
              "      <td>5</td>\n",
              "      <td>25</td>\n",
              "    </tr>\n",
              "    <tr>\n",
              "      <th>4</th>\n",
              "      <td>IndiGo</td>\n",
              "      <td>Banglore</td>\n",
              "      <td>New Delhi</td>\n",
              "      <td>1</td>\n",
              "      <td>0</td>\n",
              "      <td>34</td>\n",
              "      <td>8</td>\n",
              "      <td>13</td>\n",
              "      <td>5</td>\n",
              "      <td>0</td>\n",
              "      <td>0</td>\n",
              "      <td>1</td>\n",
              "      <td>0</td>\n",
              "      <td>0</td>\n",
              "      <td>0</td>\n",
              "      <td>0</td>\n",
              "      <td>0</td>\n",
              "      <td>0</td>\n",
              "      <td>0</td>\n",
              "      <td>0</td>\n",
              "      <td>0</td>\n",
              "      <td>0</td>\n",
              "      <td>0</td>\n",
              "      <td>0</td>\n",
              "      <td>0</td>\n",
              "      <td>0</td>\n",
              "      <td>0</td>\n",
              "      <td>0</td>\n",
              "      <td>1</td>\n",
              "      <td>13302</td>\n",
              "      <td>3</td>\n",
              "      <td>1</td>\n",
              "      <td>16</td>\n",
              "      <td>50</td>\n",
              "      <td>21</td>\n",
              "      <td>35</td>\n",
              "      <td>4</td>\n",
              "      <td>45</td>\n",
              "    </tr>\n",
              "  </tbody>\n",
              "</table>\n",
              "</div>"
            ],
            "text/plain": [
              "       Airline    Source  ... Duration_hours  Duration_min\n",
              "0       IndiGo  Banglore  ...              2            50\n",
              "1    Air India   Kolkata  ...              7            25\n",
              "2  Jet Airways     Delhi  ...             19             0\n",
              "3       IndiGo   Kolkata  ...              5            25\n",
              "4       IndiGo  Banglore  ...              4            45\n",
              "\n",
              "[5 rows x 38 columns]"
            ]
          },
          "metadata": {
            "tags": []
          },
          "execution_count": 357
        }
      ]
    },
    {
      "cell_type": "code",
      "metadata": {
        "id": "qyJxT3P1Km_x"
      },
      "source": [
        "drop_column(data_train,'Airline')\n",
        "drop_column(data_train,'Source')\n",
        "drop_column(data_train,'Destination')"
      ],
      "execution_count": null,
      "outputs": []
    },
    {
      "cell_type": "code",
      "metadata": {
        "id": "_YZ40JMEKpBb",
        "colab": {
          "base_uri": "https://localhost:8080/",
          "height": 274
        },
        "outputId": "3831bba8-2a1c-4737-e77c-bf3cdd140383"
      },
      "source": [
        "data_train.head()"
      ],
      "execution_count": null,
      "outputs": [
        {
          "output_type": "execute_result",
          "data": {
            "text/html": [
              "<div>\n",
              "<style scoped>\n",
              "    .dataframe tbody tr th:only-of-type {\n",
              "        vertical-align: middle;\n",
              "    }\n",
              "\n",
              "    .dataframe tbody tr th {\n",
              "        vertical-align: top;\n",
              "    }\n",
              "\n",
              "    .dataframe thead th {\n",
              "        text-align: right;\n",
              "    }\n",
              "</style>\n",
              "<table border=\"1\" class=\"dataframe\">\n",
              "  <thead>\n",
              "    <tr style=\"text-align: right;\">\n",
              "      <th></th>\n",
              "      <th>Total_Stops</th>\n",
              "      <th>Route_1</th>\n",
              "      <th>Route_2</th>\n",
              "      <th>Route_3</th>\n",
              "      <th>Route_4</th>\n",
              "      <th>Route_5</th>\n",
              "      <th>Air India</th>\n",
              "      <th>GoAir</th>\n",
              "      <th>IndiGo</th>\n",
              "      <th>Jet Airways</th>\n",
              "      <th>Jet Airways Business</th>\n",
              "      <th>Multiple carriers</th>\n",
              "      <th>Multiple carriers Premium economy</th>\n",
              "      <th>SpiceJet</th>\n",
              "      <th>Trujet</th>\n",
              "      <th>Vistara</th>\n",
              "      <th>Vistara Premium economy</th>\n",
              "      <th>Chennai</th>\n",
              "      <th>Delhi</th>\n",
              "      <th>Kolkata</th>\n",
              "      <th>Mumbai</th>\n",
              "      <th>Cochin</th>\n",
              "      <th>Delhi</th>\n",
              "      <th>Hyderabad</th>\n",
              "      <th>Kolkata</th>\n",
              "      <th>New Delhi</th>\n",
              "      <th>Price</th>\n",
              "      <th>day</th>\n",
              "      <th>month</th>\n",
              "      <th>Dep_Time_hour</th>\n",
              "      <th>Dep_Time_min</th>\n",
              "      <th>Arrival_Time_hour</th>\n",
              "      <th>Arrival_Time_min</th>\n",
              "      <th>Duration_hours</th>\n",
              "      <th>Duration_min</th>\n",
              "    </tr>\n",
              "  </thead>\n",
              "  <tbody>\n",
              "    <tr>\n",
              "      <th>0</th>\n",
              "      <td>0</td>\n",
              "      <td>0</td>\n",
              "      <td>13</td>\n",
              "      <td>29</td>\n",
              "      <td>13</td>\n",
              "      <td>5</td>\n",
              "      <td>0</td>\n",
              "      <td>0</td>\n",
              "      <td>1</td>\n",
              "      <td>0</td>\n",
              "      <td>0</td>\n",
              "      <td>0</td>\n",
              "      <td>0</td>\n",
              "      <td>0</td>\n",
              "      <td>0</td>\n",
              "      <td>0</td>\n",
              "      <td>0</td>\n",
              "      <td>0</td>\n",
              "      <td>0</td>\n",
              "      <td>0</td>\n",
              "      <td>0</td>\n",
              "      <td>0</td>\n",
              "      <td>0</td>\n",
              "      <td>0</td>\n",
              "      <td>0</td>\n",
              "      <td>1</td>\n",
              "      <td>3897</td>\n",
              "      <td>24</td>\n",
              "      <td>3</td>\n",
              "      <td>22</td>\n",
              "      <td>20</td>\n",
              "      <td>1</td>\n",
              "      <td>10</td>\n",
              "      <td>2</td>\n",
              "      <td>50</td>\n",
              "    </tr>\n",
              "    <tr>\n",
              "      <th>1</th>\n",
              "      <td>2</td>\n",
              "      <td>2</td>\n",
              "      <td>25</td>\n",
              "      <td>1</td>\n",
              "      <td>3</td>\n",
              "      <td>5</td>\n",
              "      <td>1</td>\n",
              "      <td>0</td>\n",
              "      <td>0</td>\n",
              "      <td>0</td>\n",
              "      <td>0</td>\n",
              "      <td>0</td>\n",
              "      <td>0</td>\n",
              "      <td>0</td>\n",
              "      <td>0</td>\n",
              "      <td>0</td>\n",
              "      <td>0</td>\n",
              "      <td>0</td>\n",
              "      <td>0</td>\n",
              "      <td>1</td>\n",
              "      <td>0</td>\n",
              "      <td>0</td>\n",
              "      <td>0</td>\n",
              "      <td>0</td>\n",
              "      <td>0</td>\n",
              "      <td>0</td>\n",
              "      <td>7662</td>\n",
              "      <td>5</td>\n",
              "      <td>1</td>\n",
              "      <td>5</td>\n",
              "      <td>50</td>\n",
              "      <td>13</td>\n",
              "      <td>15</td>\n",
              "      <td>7</td>\n",
              "      <td>25</td>\n",
              "    </tr>\n",
              "    <tr>\n",
              "      <th>2</th>\n",
              "      <td>2</td>\n",
              "      <td>3</td>\n",
              "      <td>32</td>\n",
              "      <td>4</td>\n",
              "      <td>5</td>\n",
              "      <td>5</td>\n",
              "      <td>0</td>\n",
              "      <td>0</td>\n",
              "      <td>0</td>\n",
              "      <td>1</td>\n",
              "      <td>0</td>\n",
              "      <td>0</td>\n",
              "      <td>0</td>\n",
              "      <td>0</td>\n",
              "      <td>0</td>\n",
              "      <td>0</td>\n",
              "      <td>0</td>\n",
              "      <td>0</td>\n",
              "      <td>1</td>\n",
              "      <td>0</td>\n",
              "      <td>0</td>\n",
              "      <td>1</td>\n",
              "      <td>0</td>\n",
              "      <td>0</td>\n",
              "      <td>0</td>\n",
              "      <td>0</td>\n",
              "      <td>13882</td>\n",
              "      <td>6</td>\n",
              "      <td>9</td>\n",
              "      <td>9</td>\n",
              "      <td>25</td>\n",
              "      <td>4</td>\n",
              "      <td>25</td>\n",
              "      <td>19</td>\n",
              "      <td>0</td>\n",
              "    </tr>\n",
              "    <tr>\n",
              "      <th>3</th>\n",
              "      <td>1</td>\n",
              "      <td>2</td>\n",
              "      <td>34</td>\n",
              "      <td>3</td>\n",
              "      <td>13</td>\n",
              "      <td>5</td>\n",
              "      <td>0</td>\n",
              "      <td>0</td>\n",
              "      <td>1</td>\n",
              "      <td>0</td>\n",
              "      <td>0</td>\n",
              "      <td>0</td>\n",
              "      <td>0</td>\n",
              "      <td>0</td>\n",
              "      <td>0</td>\n",
              "      <td>0</td>\n",
              "      <td>0</td>\n",
              "      <td>0</td>\n",
              "      <td>0</td>\n",
              "      <td>1</td>\n",
              "      <td>0</td>\n",
              "      <td>0</td>\n",
              "      <td>0</td>\n",
              "      <td>0</td>\n",
              "      <td>0</td>\n",
              "      <td>0</td>\n",
              "      <td>6218</td>\n",
              "      <td>5</td>\n",
              "      <td>12</td>\n",
              "      <td>18</td>\n",
              "      <td>5</td>\n",
              "      <td>23</td>\n",
              "      <td>30</td>\n",
              "      <td>5</td>\n",
              "      <td>25</td>\n",
              "    </tr>\n",
              "    <tr>\n",
              "      <th>4</th>\n",
              "      <td>1</td>\n",
              "      <td>0</td>\n",
              "      <td>34</td>\n",
              "      <td>8</td>\n",
              "      <td>13</td>\n",
              "      <td>5</td>\n",
              "      <td>0</td>\n",
              "      <td>0</td>\n",
              "      <td>1</td>\n",
              "      <td>0</td>\n",
              "      <td>0</td>\n",
              "      <td>0</td>\n",
              "      <td>0</td>\n",
              "      <td>0</td>\n",
              "      <td>0</td>\n",
              "      <td>0</td>\n",
              "      <td>0</td>\n",
              "      <td>0</td>\n",
              "      <td>0</td>\n",
              "      <td>0</td>\n",
              "      <td>0</td>\n",
              "      <td>0</td>\n",
              "      <td>0</td>\n",
              "      <td>0</td>\n",
              "      <td>0</td>\n",
              "      <td>1</td>\n",
              "      <td>13302</td>\n",
              "      <td>3</td>\n",
              "      <td>1</td>\n",
              "      <td>16</td>\n",
              "      <td>50</td>\n",
              "      <td>21</td>\n",
              "      <td>35</td>\n",
              "      <td>4</td>\n",
              "      <td>45</td>\n",
              "    </tr>\n",
              "  </tbody>\n",
              "</table>\n",
              "</div>"
            ],
            "text/plain": [
              "   Total_Stops  Route_1  ...  Duration_hours  Duration_min\n",
              "0            0        0  ...               2            50\n",
              "1            2        2  ...               7            25\n",
              "2            2        3  ...              19             0\n",
              "3            1        2  ...               5            25\n",
              "4            1        0  ...               4            45\n",
              "\n",
              "[5 rows x 35 columns]"
            ]
          },
          "metadata": {
            "tags": []
          },
          "execution_count": 359
        }
      ]
    },
    {
      "cell_type": "code",
      "metadata": {
        "id": "VVKNmshCOYwZ",
        "colab": {
          "base_uri": "https://localhost:8080/"
        },
        "outputId": "9d0203dc-de4a-4d49-e553-67617cbe1c75"
      },
      "source": [
        "data_train.shape"
      ],
      "execution_count": null,
      "outputs": [
        {
          "output_type": "execute_result",
          "data": {
            "text/plain": [
              "(10682, 35)"
            ]
          },
          "metadata": {
            "tags": []
          },
          "execution_count": 360
        }
      ]
    },
    {
      "cell_type": "code",
      "metadata": {
        "id": "z2MYM5z1LUex"
      },
      "source": [
        "def plot(df,col):\n",
        "  fig,(ax1,ax2)=plt.subplots(2,1)\n",
        "  sns.distplot(df[col],ax=ax1)\n",
        "  sns.boxplot(df[col],ax=ax2)"
      ],
      "execution_count": null,
      "outputs": []
    },
    {
      "cell_type": "code",
      "metadata": {
        "id": "Pe47y3ZCMVDx",
        "colab": {
          "base_uri": "https://localhost:8080/",
          "height": 279
        },
        "outputId": "b71295fe-1cd6-4b4e-f839-e9b631c68284"
      },
      "source": [
        "plot(data_train,'Price')"
      ],
      "execution_count": null,
      "outputs": [
        {
          "output_type": "display_data",
          "data": {
            "image/png": "[encoded data removed]",
            "text/plain": [
              "<Figure size 432x288 with 2 Axes>"
            ]
          },
          "metadata": {
            "tags": [],
            "needs_background": "light"
          }
        }
      ]
    },
    {
      "cell_type": "code",
      "metadata": {
        "id": "6DxMCVfPMX5G"
      },
      "source": [
        "data_train['Price']=np.where(data_train['Price']>=40000,data_train['Price'].median(),data_train['Price'])"
      ],
      "execution_count": null,
      "outputs": []
    },
    {
      "cell_type": "code",
      "metadata": {
        "id": "qkr125kaM_S0",
        "colab": {
          "base_uri": "https://localhost:8080/",
          "height": 279
        },
        "outputId": "8b7b5ebf-33b9-4c04-bb46-faaa6e78cf0f"
      },
      "source": [
        "plot(data_train,'Price')"
      ],
      "execution_count": null,
      "outputs": [
        {
          "output_type": "display_data",
          "data": {
            "image/png": "[encoded data removed]",
            "text/plain": [
              "<Figure size 432x288 with 2 Axes>"
            ]
          },
          "metadata": {
            "tags": [],
            "needs_background": "light"
          }
        }
      ]
    },
    {
      "cell_type": "code",
      "metadata": {
        "id": "TrW1_sBoM7a0",
        "colab": {
          "base_uri": "https://localhost:8080/",
          "height": 274
        },
        "outputId": "9962fdf5-9c5f-4e21-b16f-292692b9c546"
      },
      "source": [
        "X=data_train.drop('Price',axis=1)\n",
        "X.head()"
      ],
      "execution_count": null,
      "outputs": [
        {
          "output_type": "execute_result",
          "data": {
            "text/html": [
              "<div>\n",
              "<style scoped>\n",
              "    .dataframe tbody tr th:only-of-type {\n",
              "        vertical-align: middle;\n",
              "    }\n",
              "\n",
              "    .dataframe tbody tr th {\n",
              "        vertical-align: top;\n",
              "    }\n",
              "\n",
              "    .dataframe thead th {\n",
              "        text-align: right;\n",
              "    }\n",
              "</style>\n",
              "<table border=\"1\" class=\"dataframe\">\n",
              "  <thead>\n",
              "    <tr style=\"text-align: right;\">\n",
              "      <th></th>\n",
              "      <th>Total_Stops</th>\n",
              "      <th>Route_1</th>\n",
              "      <th>Route_2</th>\n",
              "      <th>Route_3</th>\n",
              "      <th>Route_4</th>\n",
              "      <th>Route_5</th>\n",
              "      <th>Air India</th>\n",
              "      <th>GoAir</th>\n",
              "      <th>IndiGo</th>\n",
              "      <th>Jet Airways</th>\n",
              "      <th>Jet Airways Business</th>\n",
              "      <th>Multiple carriers</th>\n",
              "      <th>Multiple carriers Premium economy</th>\n",
              "      <th>SpiceJet</th>\n",
              "      <th>Trujet</th>\n",
              "      <th>Vistara</th>\n",
              "      <th>Vistara Premium economy</th>\n",
              "      <th>Chennai</th>\n",
              "      <th>Delhi</th>\n",
              "      <th>Kolkata</th>\n",
              "      <th>Mumbai</th>\n",
              "      <th>Cochin</th>\n",
              "      <th>Delhi</th>\n",
              "      <th>Hyderabad</th>\n",
              "      <th>Kolkata</th>\n",
              "      <th>New Delhi</th>\n",
              "      <th>day</th>\n",
              "      <th>month</th>\n",
              "      <th>Dep_Time_hour</th>\n",
              "      <th>Dep_Time_min</th>\n",
              "      <th>Arrival_Time_hour</th>\n",
              "      <th>Arrival_Time_min</th>\n",
              "      <th>Duration_hours</th>\n",
              "      <th>Duration_min</th>\n",
              "    </tr>\n",
              "  </thead>\n",
              "  <tbody>\n",
              "    <tr>\n",
              "      <th>0</th>\n",
              "      <td>0</td>\n",
              "      <td>0</td>\n",
              "      <td>13</td>\n",
              "      <td>29</td>\n",
              "      <td>13</td>\n",
              "      <td>5</td>\n",
              "      <td>0</td>\n",
              "      <td>0</td>\n",
              "      <td>1</td>\n",
              "      <td>0</td>\n",
              "      <td>0</td>\n",
              "      <td>0</td>\n",
              "      <td>0</td>\n",
              "      <td>0</td>\n",
              "      <td>0</td>\n",
              "      <td>0</td>\n",
              "      <td>0</td>\n",
              "      <td>0</td>\n",
              "      <td>0</td>\n",
              "      <td>0</td>\n",
              "      <td>0</td>\n",
              "      <td>0</td>\n",
              "      <td>0</td>\n",
              "      <td>0</td>\n",
              "      <td>0</td>\n",
              "      <td>1</td>\n",
              "      <td>24</td>\n",
              "      <td>3</td>\n",
              "      <td>22</td>\n",
              "      <td>20</td>\n",
              "      <td>1</td>\n",
              "      <td>10</td>\n",
              "      <td>2</td>\n",
              "      <td>50</td>\n",
              "    </tr>\n",
              "    <tr>\n",
              "      <th>1</th>\n",
              "      <td>2</td>\n",
              "      <td>2</td>\n",
              "      <td>25</td>\n",
              "      <td>1</td>\n",
              "      <td>3</td>\n",
              "      <td>5</td>\n",
              "      <td>1</td>\n",
              "      <td>0</td>\n",
              "      <td>0</td>\n",
              "      <td>0</td>\n",
              "      <td>0</td>\n",
              "      <td>0</td>\n",
              "      <td>0</td>\n",
              "      <td>0</td>\n",
              "      <td>0</td>\n",
              "      <td>0</td>\n",
              "      <td>0</td>\n",
              "      <td>0</td>\n",
              "      <td>0</td>\n",
              "      <td>1</td>\n",
              "      <td>0</td>\n",
              "      <td>0</td>\n",
              "      <td>0</td>\n",
              "      <td>0</td>\n",
              "      <td>0</td>\n",
              "      <td>0</td>\n",
              "      <td>5</td>\n",
              "      <td>1</td>\n",
              "      <td>5</td>\n",
              "      <td>50</td>\n",
              "      <td>13</td>\n",
              "      <td>15</td>\n",
              "      <td>7</td>\n",
              "      <td>25</td>\n",
              "    </tr>\n",
              "    <tr>\n",
              "      <th>2</th>\n",
              "      <td>2</td>\n",
              "      <td>3</td>\n",
              "      <td>32</td>\n",
              "      <td>4</td>\n",
              "      <td>5</td>\n",
              "      <td>5</td>\n",
              "      <td>0</td>\n",
              "      <td>0</td>\n",
              "      <td>0</td>\n",
              "      <td>1</td>\n",
              "      <td>0</td>\n",
              "      <td>0</td>\n",
              "      <td>0</td>\n",
              "      <td>0</td>\n",
              "      <td>0</td>\n",
              "      <td>0</td>\n",
              "      <td>0</td>\n",
              "      <td>0</td>\n",
              "      <td>1</td>\n",
              "      <td>0</td>\n",
              "      <td>0</td>\n",
              "      <td>1</td>\n",
              "      <td>0</td>\n",
              "      <td>0</td>\n",
              "      <td>0</td>\n",
              "      <td>0</td>\n",
              "      <td>6</td>\n",
              "      <td>9</td>\n",
              "      <td>9</td>\n",
              "      <td>25</td>\n",
              "      <td>4</td>\n",
              "      <td>25</td>\n",
              "      <td>19</td>\n",
              "      <td>0</td>\n",
              "    </tr>\n",
              "    <tr>\n",
              "      <th>3</th>\n",
              "      <td>1</td>\n",
              "      <td>2</td>\n",
              "      <td>34</td>\n",
              "      <td>3</td>\n",
              "      <td>13</td>\n",
              "      <td>5</td>\n",
              "      <td>0</td>\n",
              "      <td>0</td>\n",
              "      <td>1</td>\n",
              "      <td>0</td>\n",
              "      <td>0</td>\n",
              "      <td>0</td>\n",
              "      <td>0</td>\n",
              "      <td>0</td>\n",
              "      <td>0</td>\n",
              "      <td>0</td>\n",
              "      <td>0</td>\n",
              "      <td>0</td>\n",
              "      <td>0</td>\n",
              "      <td>1</td>\n",
              "      <td>0</td>\n",
              "      <td>0</td>\n",
              "      <td>0</td>\n",
              "      <td>0</td>\n",
              "      <td>0</td>\n",
              "      <td>0</td>\n",
              "      <td>5</td>\n",
              "      <td>12</td>\n",
              "      <td>18</td>\n",
              "      <td>5</td>\n",
              "      <td>23</td>\n",
              "      <td>30</td>\n",
              "      <td>5</td>\n",
              "      <td>25</td>\n",
              "    </tr>\n",
              "    <tr>\n",
              "      <th>4</th>\n",
              "      <td>1</td>\n",
              "      <td>0</td>\n",
              "      <td>34</td>\n",
              "      <td>8</td>\n",
              "      <td>13</td>\n",
              "      <td>5</td>\n",
              "      <td>0</td>\n",
              "      <td>0</td>\n",
              "      <td>1</td>\n",
              "      <td>0</td>\n",
              "      <td>0</td>\n",
              "      <td>0</td>\n",
              "      <td>0</td>\n",
              "      <td>0</td>\n",
              "      <td>0</td>\n",
              "      <td>0</td>\n",
              "      <td>0</td>\n",
              "      <td>0</td>\n",
              "      <td>0</td>\n",
              "      <td>0</td>\n",
              "      <td>0</td>\n",
              "      <td>0</td>\n",
              "      <td>0</td>\n",
              "      <td>0</td>\n",
              "      <td>0</td>\n",
              "      <td>1</td>\n",
              "      <td>3</td>\n",
              "      <td>1</td>\n",
              "      <td>16</td>\n",
              "      <td>50</td>\n",
              "      <td>21</td>\n",
              "      <td>35</td>\n",
              "      <td>4</td>\n",
              "      <td>45</td>\n",
              "    </tr>\n",
              "  </tbody>\n",
              "</table>\n",
              "</div>"
            ],
            "text/plain": [
              "   Total_Stops  Route_1  ...  Duration_hours  Duration_min\n",
              "0            0        0  ...               2            50\n",
              "1            2        2  ...               7            25\n",
              "2            2        3  ...              19             0\n",
              "3            1        2  ...               5            25\n",
              "4            1        0  ...               4            45\n",
              "\n",
              "[5 rows x 34 columns]"
            ]
          },
          "metadata": {
            "tags": []
          },
          "execution_count": 365
        }
      ]
    },
    {
      "cell_type": "code",
      "metadata": {
        "id": "F9W_UXxDNWVc"
      },
      "source": [
        "from sklearn.feature_selection import mutual_info_classif"
      ],
      "execution_count": null,
      "outputs": []
    },
    {
      "cell_type": "code",
      "metadata": {
        "colab": {
          "base_uri": "https://localhost:8080/"
        },
        "id": "EeUQZj3dbgZr",
        "outputId": "b8233809-662d-46a6-966d-478d66075722"
      },
      "source": [
        "y=data_train['Price']\n",
        "y"
      ],
      "execution_count": null,
      "outputs": [
        {
          "output_type": "execute_result",
          "data": {
            "text/plain": [
              "0         3897.0\n",
              "1         7662.0\n",
              "2        13882.0\n",
              "3         6218.0\n",
              "4        13302.0\n",
              "          ...   \n",
              "10678     4107.0\n",
              "10679     4145.0\n",
              "10680     7229.0\n",
              "10681    12648.0\n",
              "10682    11753.0\n",
              "Name: Price, Length: 10682, dtype: float64"
            ]
          },
          "metadata": {
            "tags": []
          },
          "execution_count": 367
        }
      ]
    },
    {
      "cell_type": "code",
      "metadata": {
        "colab": {
          "base_uri": "https://localhost:8080/"
        },
        "id": "Lewt-RQsVF5m",
        "outputId": "79439f96-6a57-4a3c-84d3-04d2e8d41173"
      },
      "source": [
        "mutual_info_classif(X,y)"
      ],
      "execution_count": null,
      "outputs": [
        {
          "output_type": "execute_result",
          "data": {
            "text/plain": [
              "array([2.15037551, 2.03105956, 2.78395389, 2.30815492, 1.45649815,\n",
              "       0.75174169, 0.75864664, 0.08629931, 0.68017147, 0.91875093,\n",
              "       0.00680535, 0.56112764, 0.00399686, 0.32008282, 0.        ,\n",
              "       0.23658865, 0.        , 0.17346074, 1.54986104, 0.87737826,\n",
              "       0.29794151, 1.54464826, 0.38700787, 0.29582541, 0.1543806 ,\n",
              "       0.38049895, 1.08219935, 0.868907  , 1.43231174, 1.19140971,\n",
              "       1.8280598 , 1.55077175, 1.78440671, 1.05794263])"
            ]
          },
          "metadata": {
            "tags": []
          },
          "execution_count": 368
        }
      ]
    },
    {
      "cell_type": "code",
      "metadata": {
        "colab": {
          "base_uri": "https://localhost:8080/",
          "height": 1000
        },
        "id": "rMAE44lGVKFu",
        "outputId": "1a4c6e06-56db-4cbf-98f6-b42ce6e46628"
      },
      "source": [
        "imp=pd.DataFrame(mutual_info_classif(X,y),index=X.columns)\n",
        "imp"
      ],
      "execution_count": null,
      "outputs": [
        {
          "output_type": "execute_result",
          "data": {
            "text/html": [
              "<div>\n",
              "<style scoped>\n",
              "    .dataframe tbody tr th:only-of-type {\n",
              "        vertical-align: middle;\n",
              "    }\n",
              "\n",
              "    .dataframe tbody tr th {\n",
              "        vertical-align: top;\n",
              "    }\n",
              "\n",
              "    .dataframe thead th {\n",
              "        text-align: right;\n",
              "    }\n",
              "</style>\n",
              "<table border=\"1\" class=\"dataframe\">\n",
              "  <thead>\n",
              "    <tr style=\"text-align: right;\">\n",
              "      <th></th>\n",
              "      <th>0</th>\n",
              "    </tr>\n",
              "  </thead>\n",
              "  <tbody>\n",
              "    <tr>\n",
              "      <th>Total_Stops</th>\n",
              "      <td>2.100643</td>\n",
              "    </tr>\n",
              "    <tr>\n",
              "      <th>Route_1</th>\n",
              "      <td>1.989770</td>\n",
              "    </tr>\n",
              "    <tr>\n",
              "      <th>Route_2</th>\n",
              "      <td>2.787678</td>\n",
              "    </tr>\n",
              "    <tr>\n",
              "      <th>Route_3</th>\n",
              "      <td>2.317606</td>\n",
              "    </tr>\n",
              "    <tr>\n",
              "      <th>Route_4</th>\n",
              "      <td>1.439910</td>\n",
              "    </tr>\n",
              "    <tr>\n",
              "      <th>Route_5</th>\n",
              "      <td>0.749418</td>\n",
              "    </tr>\n",
              "    <tr>\n",
              "      <th>Air India</th>\n",
              "      <td>0.750088</td>\n",
              "    </tr>\n",
              "    <tr>\n",
              "      <th>GoAir</th>\n",
              "      <td>0.088690</td>\n",
              "    </tr>\n",
              "    <tr>\n",
              "      <th>IndiGo</th>\n",
              "      <td>0.674753</td>\n",
              "    </tr>\n",
              "    <tr>\n",
              "      <th>Jet Airways</th>\n",
              "      <td>0.938469</td>\n",
              "    </tr>\n",
              "    <tr>\n",
              "      <th>Jet Airways Business</th>\n",
              "      <td>0.010820</td>\n",
              "    </tr>\n",
              "    <tr>\n",
              "      <th>Multiple carriers</th>\n",
              "      <td>0.551809</td>\n",
              "    </tr>\n",
              "    <tr>\n",
              "      <th>Multiple carriers Premium economy</th>\n",
              "      <td>0.018717</td>\n",
              "    </tr>\n",
              "    <tr>\n",
              "      <th>SpiceJet</th>\n",
              "      <td>0.324780</td>\n",
              "    </tr>\n",
              "    <tr>\n",
              "      <th>Trujet</th>\n",
              "      <td>0.015313</td>\n",
              "    </tr>\n",
              "    <tr>\n",
              "      <th>Vistara</th>\n",
              "      <td>0.237214</td>\n",
              "    </tr>\n",
              "    <tr>\n",
              "      <th>Vistara Premium economy</th>\n",
              "      <td>0.002074</td>\n",
              "    </tr>\n",
              "    <tr>\n",
              "      <th>Chennai</th>\n",
              "      <td>0.179502</td>\n",
              "    </tr>\n",
              "    <tr>\n",
              "      <th>Delhi</th>\n",
              "      <td>1.525574</td>\n",
              "    </tr>\n",
              "    <tr>\n",
              "      <th>Kolkata</th>\n",
              "      <td>0.886971</td>\n",
              "    </tr>\n",
              "    <tr>\n",
              "      <th>Mumbai</th>\n",
              "      <td>0.298602</td>\n",
              "    </tr>\n",
              "    <tr>\n",
              "      <th>Cochin</th>\n",
              "      <td>1.505714</td>\n",
              "    </tr>\n",
              "    <tr>\n",
              "      <th>Delhi</th>\n",
              "      <td>0.400397</td>\n",
              "    </tr>\n",
              "    <tr>\n",
              "      <th>Hyderabad</th>\n",
              "      <td>0.288708</td>\n",
              "    </tr>\n",
              "    <tr>\n",
              "      <th>Kolkata</th>\n",
              "      <td>0.156303</td>\n",
              "    </tr>\n",
              "    <tr>\n",
              "      <th>New Delhi</th>\n",
              "      <td>0.399057</td>\n",
              "    </tr>\n",
              "    <tr>\n",
              "      <th>day</th>\n",
              "      <td>1.078701</td>\n",
              "    </tr>\n",
              "    <tr>\n",
              "      <th>month</th>\n",
              "      <td>0.869640</td>\n",
              "    </tr>\n",
              "    <tr>\n",
              "      <th>Dep_Time_hour</th>\n",
              "      <td>1.449713</td>\n",
              "    </tr>\n",
              "    <tr>\n",
              "      <th>Dep_Time_min</th>\n",
              "      <td>1.211028</td>\n",
              "    </tr>\n",
              "    <tr>\n",
              "      <th>Arrival_Time_hour</th>\n",
              "      <td>1.811030</td>\n",
              "    </tr>\n",
              "    <tr>\n",
              "      <th>Arrival_Time_min</th>\n",
              "      <td>1.548832</td>\n",
              "    </tr>\n",
              "    <tr>\n",
              "      <th>Duration_hours</th>\n",
              "      <td>1.777838</td>\n",
              "    </tr>\n",
              "    <tr>\n",
              "      <th>Duration_min</th>\n",
              "      <td>1.071082</td>\n",
              "    </tr>\n",
              "  </tbody>\n",
              "</table>\n",
              "</div>"
            ],
            "text/plain": [
              "                                          0\n",
              "Total_Stops                        2.100643\n",
              "Route_1                            1.989770\n",
              "Route_2                            2.787678\n",
              "Route_3                            2.317606\n",
              "Route_4                            1.439910\n",
              "Route_5                            0.749418\n",
              "Air India                          0.750088\n",
              "GoAir                              0.088690\n",
              "IndiGo                             0.674753\n",
              "Jet Airways                        0.938469\n",
              "Jet Airways Business               0.010820\n",
              "Multiple carriers                  0.551809\n",
              "Multiple carriers Premium economy  0.018717\n",
              "SpiceJet                           0.324780\n",
              "Trujet                             0.015313\n",
              "Vistara                            0.237214\n",
              "Vistara Premium economy            0.002074\n",
              "Chennai                            0.179502\n",
              "Delhi                              1.525574\n",
              "Kolkata                            0.886971\n",
              "Mumbai                             0.298602\n",
              "Cochin                             1.505714\n",
              "Delhi                              0.400397\n",
              "Hyderabad                          0.288708\n",
              "Kolkata                            0.156303\n",
              "New Delhi                          0.399057\n",
              "day                                1.078701\n",
              "month                              0.869640\n",
              "Dep_Time_hour                      1.449713\n",
              "Dep_Time_min                       1.211028\n",
              "Arrival_Time_hour                  1.811030\n",
              "Arrival_Time_min                   1.548832\n",
              "Duration_hours                     1.777838\n",
              "Duration_min                       1.071082"
            ]
          },
          "metadata": {
            "tags": []
          },
          "execution_count": 369
        }
      ]
    },
    {
      "cell_type": "code",
      "metadata": {
        "id": "rLMXGQQWVhYj"
      },
      "source": [
        "imp.columns=['importance']"
      ],
      "execution_count": null,
      "outputs": []
    },
    {
      "cell_type": "markdown",
      "metadata": {
        "id": "IRFAjljGe3Lb"
      },
      "source": [
        "## Machine learning models"
      ]
    },
    {
      "cell_type": "markdown",
      "metadata": {
        "id": "Ye8xykE9WiLH"
      },
      "source": [
        "**Random Forest**"
      ]
    },
    {
      "cell_type": "code",
      "metadata": {
        "id": "milUYY7vWlMq"
      },
      "source": [
        "from sklearn.model_selection import train_test_split\n",
        "from sklearn import metrics"
      ],
      "execution_count": null,
      "outputs": []
    },
    {
      "cell_type": "code",
      "metadata": {
        "id": "Q2T6zB-LW_hz"
      },
      "source": [
        "X_train, X_test, y_train, y_test = train_test_split(X, y, test_size = 0.3, random_state = 42)"
      ],
      "execution_count": null,
      "outputs": []
    },
    {
      "cell_type": "code",
      "metadata": {
        "id": "PuhyQtJbeCdT"
      },
      "source": [
        "def predict(models):\n",
        "  model= models.fit(X_train,y_train)\n",
        "  print('Training score :{}'.format(model.score(X_train,y_train)))\n",
        "  y_prediction = model.predict(X_test)\n",
        "  print('Predictions are :\\n {}'.format(y_prediction))\n",
        "  r2_score = metrics.r2_score(y_test,y_prediction)\n",
        "  print('r2 score is {}'.format(r2_score))\n",
        "  print('MAE : ',metrics.mean_absolute_error(y_test,y_prediction))\n",
        "  print('MSE : ',metrics.mean_squared_error(y_test,y_prediction))\n",
        "  print('RMSE : ',np.sqrt(metrics.mean_squared_error(y_test,y_prediction)))\n",
        "\n",
        "  sns.displot(y_test-y_prediction)"
      ],
      "execution_count": null,
      "outputs": []
    },
    {
      "cell_type": "code",
      "metadata": {
        "colab": {
          "base_uri": "https://localhost:8080/"
        },
        "id": "jRTPMhoxN1IR",
        "outputId": "17f1b8ee-d6af-4a9c-90a5-87edb23b6888"
      },
      "source": [
        "y_test.shape"
      ],
      "execution_count": null,
      "outputs": [
        {
          "output_type": "execute_result",
          "data": {
            "text/plain": [
              "(3205,)"
            ]
          },
          "metadata": {
            "tags": []
          },
          "execution_count": 374
        }
      ]
    },
    {
      "cell_type": "code",
      "metadata": {
        "id": "Mxucsa3-tgKt"
      },
      "source": [
        "from sklearn.ensemble import RandomForestRegressor"
      ],
      "execution_count": null,
      "outputs": []
    },
    {
      "cell_type": "code",
      "metadata": {
        "colab": {
          "base_uri": "https://localhost:8080/",
          "height": 520
        },
        "id": "W3kjGWDZtmak",
        "outputId": "7482989e-3740-4506-aa74-62635a9f583f"
      },
      "source": [
        "predict(RandomForestRegressor())"
      ],
      "execution_count": null,
      "outputs": [
        {
          "output_type": "stream",
          "text": [
            "Training score :0.9547522693620941\n",
            "Predictions are :\n",
            " [16764.75  6318.31  8705.63 ...  5845.79  3285.48  7052.54]\n",
            "\n",
            "\n",
            "r2 score is 0.835423979452907\n",
            "MAE :  1124.1250518533902\n",
            "MSE :  3238302.261210849\n",
            "RMSE :  1799.5283440976552\n"
          ],
          "name": "stdout"
        },
        {
          "output_type": "display_data",
          "data": {
            "image/png": "[encoded data removed]",
            "text/plain": [
              "<Figure size 360x360 with 1 Axes>"
            ]
          },
          "metadata": {
            "tags": [],
            "needs_background": "light"
          }
        }
      ]
    },
    {
      "cell_type": "markdown",
      "metadata": {
        "id": "CF9pVaKYv_89"
      },
      "source": [
        "**Linear regression**"
      ]
    },
    {
      "cell_type": "code",
      "metadata": {
        "id": "RW2sOrEnv_mD"
      },
      "source": [
        "from sklearn.linear_model import LinearRegression"
      ],
      "execution_count": null,
      "outputs": []
    },
    {
      "cell_type": "code",
      "metadata": {
        "colab": {
          "base_uri": "https://localhost:8080/",
          "height": 537
        },
        "id": "er9vJ9zbworZ",
        "outputId": "e3598b37-74e8-44a4-a2fb-1d52fdb3727c"
      },
      "source": [
        "predict(LinearRegression())"
      ],
      "execution_count": null,
      "outputs": [
        {
          "output_type": "stream",
          "text": [
            "Training score :0.613042248472919\n",
            "Predictions are :\n",
            " [12779.07837423  8348.08868131  9571.90830966 ...  4428.81194631\n",
            "  4818.20837439  7491.93665035]\n",
            "\n",
            "\n",
            "r2 score is 0.620125036094425\n",
            "MAE :  1918.923088155858\n",
            "MSE :  7474660.953056698\n",
            "RMSE :  2733.9826175483813\n"
          ],
          "name": "stdout"
        },
        {
          "output_type": "display_data",
          "data": {
            "image/png": "[encoded data removed]",
            "text/plain": [
              "<Figure size 360x360 with 1 Axes>"
            ]
          },
          "metadata": {
            "tags": [],
            "needs_background": "light"
          }
        }
      ]
    },
    {
      "cell_type": "markdown",
      "metadata": {
        "id": "IehPG-tjw76F"
      },
      "source": [
        "**KNN**"
      ]
    },
    {
      "cell_type": "code",
      "metadata": {
        "id": "t88QuBiywy7-"
      },
      "source": [
        "from sklearn.neighbors import KNeighborsRegressor"
      ],
      "execution_count": null,
      "outputs": []
    },
    {
      "cell_type": "code",
      "metadata": {
        "colab": {
          "base_uri": "https://localhost:8080/",
          "height": 520
        },
        "id": "orFmvXlXw1fc",
        "outputId": "f6daaab5-063c-4faf-f94f-c2e0b3f4a5f2"
      },
      "source": [
        "predict(KNeighborsRegressor())"
      ],
      "execution_count": null,
      "outputs": [
        {
          "output_type": "stream",
          "text": [
            "Training score :0.773221764944293\n",
            "Predictions are :\n",
            " [16315.   5116.6  8441.6 ...  6244.6  3572.4  6192. ]\n",
            "\n",
            "\n",
            "r2 score is 0.6326853736987041\n",
            "MAE :  1773.0818720748832\n",
            "MSE :  7227515.776436817\n",
            "RMSE :  2688.403945919738\n"
          ],
          "name": "stdout"
        },
        {
          "output_type": "display_data",
          "data": {
            "image/png": "[encoded data removed]",
            "text/plain": [
              "<Figure size 360x360 with 1 Axes>"
            ]
          },
          "metadata": {
            "tags": [],
            "needs_background": "light"
          }
        }
      ]
    },
    {
      "cell_type": "markdown",
      "metadata": {
        "id": "nfwdPH3WxHAQ"
      },
      "source": [
        "**DecisionTree**"
      ]
    },
    {
      "cell_type": "code",
      "metadata": {
        "id": "wj69XVw3w5zJ"
      },
      "source": [
        "from sklearn.tree import DecisionTreeRegressor"
      ],
      "execution_count": null,
      "outputs": []
    },
    {
      "cell_type": "code",
      "metadata": {
        "colab": {
          "base_uri": "https://localhost:8080/",
          "height": 520
        },
        "id": "rC9JjAegxMQI",
        "outputId": "059cc7f1-df25-47c2-f509-51238bd71278"
      },
      "source": [
        "predict(DecisionTreeRegressor())"
      ],
      "execution_count": null,
      "outputs": [
        {
          "output_type": "stream",
          "text": [
            "Training score :0.9694074970752422\n",
            "Predictions are :\n",
            " [16840.  5752.  8085. ...  5601.  3100.  6734.]\n",
            "\n",
            "\n",
            "r2 score is 0.7442269157870474\n",
            "MAE :  1311.5691107644307\n",
            "MSE :  5032753.582267291\n",
            "RMSE :  2243.3799460339505\n"
          ],
          "name": "stdout"
        },
        {
          "output_type": "display_data",
          "data": {
            "image/png": "[encoded data removed]",
            "text/plain": [
              "<Figure size 360x360 with 1 Axes>"
            ]
          },
          "metadata": {
            "tags": [],
            "needs_background": "light"
          }
        }
      ]
    },
    {
      "cell_type": "code",
      "metadata": {
        "id": "0JOoKpWcwZAF"
      },
      "source": [
        "#plt.bar(x1, y1, label=\"Blue Bar\", color='b')\n",
        "#plt.bar(x2, y2, label=\"Green Bar\", color='g')\n",
        "#plt.plot()\n",
        "#\n",
        "#plt.xlabel(\"ML_model\")\n",
        "#plt.ylabel(\"R2_score\")\n",
        "#plt.title(\"Bar Chart\")\n",
        "#plt.legend()\n",
        "#plt.show()"
      ],
      "execution_count": null,
      "outputs": []
    },
    {
      "cell_type": "markdown",
      "metadata": {
        "id": "SkU01su6zl-I"
      },
      "source": [
        "**Hypertuning**"
      ]
    },
    {
      "cell_type": "code",
      "metadata": {
        "id": "IDZhwaWnztJ8"
      },
      "source": [
        "from sklearn.model_selection import RandomizedSearchCV"
      ],
      "execution_count": null,
      "outputs": []
    },
    {
      "cell_type": "code",
      "metadata": {
        "colab": {
          "base_uri": "https://localhost:8080/"
        },
        "id": "sxhZZ0Tgc9MJ",
        "outputId": "71e2853d-07e3-4146-c1f8-f848c94298be"
      },
      "source": [
        "tuned_params = {'n_estimators': [100, 200, 300, 400, 500], 'min_samples_split': [2, 5, 10], 'min_samples_leaf': [1, 2, 4]}\n",
        "random_regressor = RandomizedSearchCV(RandomForestRegressor(), tuned_params, n_iter = 20, scoring = 'neg_mean_absolute_error', cv = 5, n_jobs = -1)\n",
        "random_regressor.fit(X_train, y_train)      "
      ],
      "execution_count": null,
      "outputs": [
        {
          "output_type": "execute_result",
          "data": {
            "text/plain": [
              "RandomizedSearchCV(cv=5, error_score=nan,\n",
              "                   estimator=RandomForestRegressor(bootstrap=True,\n",
              "                                                   ccp_alpha=0.0,\n",
              "                                                   criterion='mse',\n",
              "                                                   max_depth=None,\n",
              "                                                   max_features='auto',\n",
              "                                                   max_leaf_nodes=None,\n",
              "                                                   max_samples=None,\n",
              "                                                   min_impurity_decrease=0.0,\n",
              "                                                   min_impurity_split=None,\n",
              "                                                   min_samples_leaf=1,\n",
              "                                                   min_samples_split=2,\n",
              "                                                   min_weight_fraction_leaf=0.0,\n",
              "                                                   n_estimators=100,\n",
              "                                                   n_jobs=None, oob_score=False,\n",
              "                                                   random_state=None, verbose=0,\n",
              "                                                   warm_start=False),\n",
              "                   iid='deprecated', n_iter=20, n_jobs=-1,\n",
              "                   param_distributions={'min_samples_leaf': [1, 2, 4],\n",
              "                                        'min_samples_split': [2, 5, 10],\n",
              "                                        'n_estimators': [100, 200, 300, 400,\n",
              "                                                         500]},\n",
              "                   pre_dispatch='2*n_jobs', random_state=None, refit=True,\n",
              "                   return_train_score=False, scoring='neg_mean_absolute_error',\n",
              "                   verbose=0)"
            ]
          },
          "metadata": {
            "tags": []
          },
          "execution_count": 395
        }
      ]
    },
    {
      "cell_type": "code",
      "metadata": {
        "id": "82OJYdBddqRO"
      },
      "source": [
        "y_train_pred = random_regressor.predict(X_train)\n",
        "y_test_pred = random_regressor.predict(X_test)"
      ],
      "execution_count": null,
      "outputs": []
    },
    {
      "cell_type": "code",
      "metadata": {
        "colab": {
          "base_uri": "https://localhost:8080/"
        },
        "id": "qrUNuCuyd1FQ",
        "outputId": "b8be5ed7-f5c5-4f2f-ce05-71333ad97cf7"
      },
      "source": [
        "r2_score = metrics.r2_score(y_train,y_train_pred)\n",
        "print('r2 score is {}'.format(r2_score))        \n",
        "print('MAE : ',metrics.mean_absolute_error(y_train,y_train_pred))\n",
        "print('MSE : ',metrics.mean_squared_error(y_train.values,y_train_pred))\n",
        "print(\"rmse : \", sqrt(mse(y_train.values, y_train_pred)))"
      ],
      "execution_count": null,
      "outputs": [
        {
          "output_type": "stream",
          "text": [
            "r2 score is 0.9226543080392973\n",
            "MAE :  774.1843132759101\n",
            "MSE :  1474526.4964347316\n",
            "rmse :  1214.3008261690065\n"
          ],
          "name": "stdout"
        }
      ]
    },
    {
      "cell_type": "code",
      "metadata": {
        "colab": {
          "base_uri": "https://localhost:8080/"
        },
        "id": "tXu9gQT2d1bz",
        "outputId": "a962ae14-44d5-4394-e8d5-c3f49fedd4f2"
      },
      "source": [
        "  r2_score = metrics.r2_score(y_test,y_test_pred)\n",
        "  print('r2 score is {}'.format(r2_score))                                                       \n",
        "  print('MAE : ',metrics.mean_absolute_error(y_test,y_test_pred))\n",
        "  print('MSE : ',metrics.mean_squared_error(y_test,y_test_pred))\n",
        "  print('RMSE : ',np.sqrt(metrics.mean_squared_error(y_test,y_test_pred)))"
      ],
      "execution_count": null,
      "outputs": [
        {
          "output_type": "stream",
          "text": [
            "r2 score is 0.8546146094494258\n",
            "MAE :  1085.4859712736031\n",
            "MSE :  2860695.242246594\n",
            "RMSE :  1691.3589927175703\n"
          ],
          "name": "stdout"
        }
      ]
    },
    {
      "cell_type": "markdown",
      "metadata": {
        "id": "a81NdmxbjHwu"
      },
      "source": [
        "RandomForestRegressor is giving maximum accuracy.\n",
        "Increased its accuracy from 83 to 85 \n"
      ]
    }
  ]
}